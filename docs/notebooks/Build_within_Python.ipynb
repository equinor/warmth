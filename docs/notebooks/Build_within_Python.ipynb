{
 "cells": [
  {
   "cell_type": "markdown",
   "metadata": {},
   "source": [
    "# Build 1D model"
   ]
  },
  {
   "cell_type": "code",
   "execution_count": 1,
   "metadata": {
    "scrolled": true
   },
   "outputs": [],
   "source": [
    "import sys\n",
    "sys.path.append(\"../\")\n",
    "import numpy as np\n",
    "import warmth\n",
    "from warmth.forward_modelling import Forward_model"
   ]
  },
  {
   "cell_type": "code",
   "execution_count": 2,
   "metadata": {},
   "outputs": [],
   "source": [
    "model = warmth.Model()"
   ]
  },
  {
   "cell_type": "code",
   "execution_count": 3,
   "metadata": {},
   "outputs": [],
   "source": [
    "import pandas as pd\n",
    "node_template=model.builder.single_node_sediments_inputs_template\n",
    "h1 = [152.0,0.0,1.500000,2.301755e-09,0.620000,0.500,2720.0,2448.0, 0,0]\n",
    "h2=[810.0,20.0,1.538462,2.079433e-09,0.599730,0.490,2708.0,2437.2, 0,0]\n",
    "h3=[1608.0,66,1.500000,2.301755e-09,0,0,2720.0,2448.0, 0,0]\n",
    "h4=[1973.0,100,1.500000,2.301755e-09,0.620000,0.500,2720.0,2448.0, 100, 5]\n",
    "h5=[2262.0,145,1.500000,2.301755e-09,0.620000,0.500,2720.0,2448.0, 0,0]\n",
    "h6=[2362.0,152,1.904762,4.719506e-10,0.447705,0.415,2618.0,2356.2, 0,0]\n",
    "h7=[2362.0,160,1.500000,2.301755e-09,0.620000,0.500,2720.0,2448.0, 0,0]\n",
    "horizons=[h1,h2,h3,h4,h5,h6,h7]\n",
    "for i in horizons:\n",
    "    new =pd.DataFrame.from_dict({'top': [i[0]], 'topage': [int(i[1])], 'k_cond': [i[2]], 'rhp':[i[3]], 'phi':[i[4]], 'decay':[i[5]], 'solidus':[i[6]],'liquidus':[i[7]], 'erosion': [i[8]], \"erosion_duration\": [i[9]]})\n",
    "    node_template = pd.concat([node_template, new], ignore_index=True)\n",
    "   "
   ]
  },
  {
   "cell_type": "code",
   "execution_count": 4,
   "metadata": {},
   "outputs": [],
   "source": [
    "# import pandas as pd\n",
    "# node_template=model.builder.single_node_sediments_inputs_template\n",
    "# h1 = [152.0,0.0,1.500000,2.301755e-09,0.620000,0.500,2720.0,2448.0, 0,0]\n",
    "# h2=[810.0,20.0,1.538462,2.079433e-09,0.599730,0.490,2708.0,2437.2, 0,0]\n",
    "# h3=[1608.0,66,1.500000,2.301755e-09,0.2,0.500,2720.0,2448.0, 0,0]\n",
    "# h4=[1973.0,100,1.500000,2.301755e-09,0.620000,0.500,2720.0,2448.0, 0, 0]\n",
    "# h5=[2262.0,145,1.500000,2.301755e-09,0.620000,0.500,2720.0,2448.0, 0,0]\n",
    "# h6=[2362.0,152,1.904762,4.719506e-10,0.447705,0.415,2618.0,2356.2, 0,0]\n",
    "# h7=[2427.0,160,1.500000,2.301755e-09,0.620000,0.500,2720.0,2448.0, 0,0]\n",
    "# horizons=[h1,h2,h3,h4,h5,h6,h7]\n",
    "# for i in horizons:\n",
    "#     new =pd.DataFrame.from_dict({'top': [i[0]], 'topage': [int(i[1])], 'k_cond': [i[2]], 'rhp':[i[3]], 'phi':[i[4]], 'decay':[i[5]], 'solidus':[i[6]],'liquidus':[i[7]], 'erosion': [i[8]], \"erosion_duration\": [i[9]]})\n",
    "#     node_template = pd.concat([node_template, new], ignore_index=True)\n",
    "   "
   ]
  },
  {
   "cell_type": "markdown",
   "metadata": {},
   "source": [
    "Create a single node and add it to the model"
   ]
  },
  {
   "cell_type": "code",
   "execution_count": 5,
   "metadata": {},
   "outputs": [
    {
     "name": "stderr",
     "output_type": "stream",
     "text": [
      "/workspaces/warmth/warmth/build.py:242: FutureWarning: In a future version, the Index constructor will not infer numeric dtypes when passed object-dtype sequences (matching Series behavior)\n",
      "  check_ascending = df.apply(lambda x: x.is_monotonic_increasing)\n",
      "/workspaces/warmth/warmth/build.py:242: FutureWarning: In a future version, the Index constructor will not infer numeric dtypes when passed object-dtype sequences (matching Series behavior)\n",
      "  check_ascending = df.apply(lambda x: x.is_monotonic_increasing)\n",
      "/workspaces/warmth/warmth/build.py:242: FutureWarning: In a future version, the Index constructor will not infer numeric dtypes when passed object-dtype sequences (matching Series behavior)\n",
      "  check_ascending = df.apply(lambda x: x.is_monotonic_increasing)\n"
     ]
    },
    {
     "data": {
      "text/html": [
       "<div>\n",
       "<style scoped>\n",
       "    .dataframe tbody tr th:only-of-type {\n",
       "        vertical-align: middle;\n",
       "    }\n",
       "\n",
       "    .dataframe tbody tr th {\n",
       "        vertical-align: top;\n",
       "    }\n",
       "\n",
       "    .dataframe thead th {\n",
       "        text-align: right;\n",
       "    }\n",
       "</style>\n",
       "<table border=\"1\" class=\"dataframe\">\n",
       "  <thead>\n",
       "    <tr style=\"text-align: right;\">\n",
       "      <th></th>\n",
       "      <th>top</th>\n",
       "      <th>topage</th>\n",
       "      <th>k_cond</th>\n",
       "      <th>rhp</th>\n",
       "      <th>phi</th>\n",
       "      <th>decay</th>\n",
       "      <th>solidus</th>\n",
       "      <th>liquidus</th>\n",
       "      <th>erosion</th>\n",
       "      <th>erosion_duration</th>\n",
       "      <th>base</th>\n",
       "      <th>baseage</th>\n",
       "      <th>thickness</th>\n",
       "      <th>grain_thickness</th>\n",
       "      <th>phi_mean</th>\n",
       "      <th>eroded_grain_thickness</th>\n",
       "    </tr>\n",
       "  </thead>\n",
       "  <tbody>\n",
       "    <tr>\n",
       "      <th>0</th>\n",
       "      <td>152.0</td>\n",
       "      <td>0</td>\n",
       "      <td>1.500000</td>\n",
       "      <td>2.301755e-09</td>\n",
       "      <td>0.620000</td>\n",
       "      <td>0.500</td>\n",
       "      <td>2720.0</td>\n",
       "      <td>2448.0</td>\n",
       "      <td>0</td>\n",
       "      <td>0</td>\n",
       "      <td>810.0</td>\n",
       "      <td>20</td>\n",
       "      <td>658.0</td>\n",
       "      <td>0.310357</td>\n",
       "      <td>0.528332</td>\n",
       "      <td>0.000000</td>\n",
       "    </tr>\n",
       "    <tr>\n",
       "      <th>1</th>\n",
       "      <td>810.0</td>\n",
       "      <td>20</td>\n",
       "      <td>1.538462</td>\n",
       "      <td>2.079433e-09</td>\n",
       "      <td>0.599730</td>\n",
       "      <td>0.490</td>\n",
       "      <td>2708.0</td>\n",
       "      <td>2437.2</td>\n",
       "      <td>0</td>\n",
       "      <td>0</td>\n",
       "      <td>1608.0</td>\n",
       "      <td>66</td>\n",
       "      <td>798.0</td>\n",
       "      <td>0.511062</td>\n",
       "      <td>0.359571</td>\n",
       "      <td>0.000000</td>\n",
       "    </tr>\n",
       "    <tr>\n",
       "      <th>2</th>\n",
       "      <td>1608.0</td>\n",
       "      <td>66</td>\n",
       "      <td>1.500000</td>\n",
       "      <td>2.301755e-09</td>\n",
       "      <td>0.000000</td>\n",
       "      <td>0.000</td>\n",
       "      <td>2720.0</td>\n",
       "      <td>2448.0</td>\n",
       "      <td>0</td>\n",
       "      <td>0</td>\n",
       "      <td>1973.0</td>\n",
       "      <td>100</td>\n",
       "      <td>365.0</td>\n",
       "      <td>0.365000</td>\n",
       "      <td>0.000000</td>\n",
       "      <td>0.000000</td>\n",
       "    </tr>\n",
       "    <tr>\n",
       "      <th>3</th>\n",
       "      <td>1973.0</td>\n",
       "      <td>100</td>\n",
       "      <td>1.500000</td>\n",
       "      <td>2.301755e-09</td>\n",
       "      <td>0.620000</td>\n",
       "      <td>0.500</td>\n",
       "      <td>2720.0</td>\n",
       "      <td>2448.0</td>\n",
       "      <td>100</td>\n",
       "      <td>5</td>\n",
       "      <td>2262.0</td>\n",
       "      <td>145</td>\n",
       "      <td>289.0</td>\n",
       "      <td>0.221878</td>\n",
       "      <td>0.232256</td>\n",
       "      <td>0.076774</td>\n",
       "    </tr>\n",
       "    <tr>\n",
       "      <th>4</th>\n",
       "      <td>2262.0</td>\n",
       "      <td>145</td>\n",
       "      <td>1.500000</td>\n",
       "      <td>2.301755e-09</td>\n",
       "      <td>0.620000</td>\n",
       "      <td>0.500</td>\n",
       "      <td>2720.0</td>\n",
       "      <td>2448.0</td>\n",
       "      <td>0</td>\n",
       "      <td>0</td>\n",
       "      <td>2362.0</td>\n",
       "      <td>152</td>\n",
       "      <td>100.0</td>\n",
       "      <td>0.078943</td>\n",
       "      <td>0.210571</td>\n",
       "      <td>0.000000</td>\n",
       "    </tr>\n",
       "    <tr>\n",
       "      <th>5</th>\n",
       "      <td>2362.0</td>\n",
       "      <td>152</td>\n",
       "      <td>1.904762</td>\n",
       "      <td>4.719506e-10</td>\n",
       "      <td>0.447705</td>\n",
       "      <td>0.415</td>\n",
       "      <td>2618.0</td>\n",
       "      <td>2356.2</td>\n",
       "      <td>0</td>\n",
       "      <td>0</td>\n",
       "      <td>2362.0</td>\n",
       "      <td>160</td>\n",
       "      <td>0.0</td>\n",
       "      <td>0.000000</td>\n",
       "      <td>0.000000</td>\n",
       "      <td>0.000000</td>\n",
       "    </tr>\n",
       "  </tbody>\n",
       "</table>\n",
       "</div>"
      ],
      "text/plain": [
       "      top topage    k_cond           rhp       phi  decay  solidus  liquidus  \\\n",
       "0   152.0      0  1.500000  2.301755e-09  0.620000  0.500   2720.0    2448.0   \n",
       "1   810.0     20  1.538462  2.079433e-09  0.599730  0.490   2708.0    2437.2   \n",
       "2  1608.0     66  1.500000  2.301755e-09  0.000000  0.000   2720.0    2448.0   \n",
       "3  1973.0    100  1.500000  2.301755e-09  0.620000  0.500   2720.0    2448.0   \n",
       "4  2262.0    145  1.500000  2.301755e-09  0.620000  0.500   2720.0    2448.0   \n",
       "5  2362.0    152  1.904762  4.719506e-10  0.447705  0.415   2618.0    2356.2   \n",
       "\n",
       "   erosion  erosion_duration    base baseage  thickness  grain_thickness  \\\n",
       "0        0                 0   810.0      20      658.0         0.310357   \n",
       "1        0                 0  1608.0      66      798.0         0.511062   \n",
       "2        0                 0  1973.0     100      365.0         0.365000   \n",
       "3      100                 5  2262.0     145      289.0         0.221878   \n",
       "4        0                 0  2362.0     152      100.0         0.078943   \n",
       "5        0                 0  2362.0     160        0.0         0.000000   \n",
       "\n",
       "   phi_mean  eroded_grain_thickness  \n",
       "0  0.528332                0.000000  \n",
       "1  0.359571                0.000000  \n",
       "2  0.000000                0.000000  \n",
       "3  0.232256                0.076774  \n",
       "4  0.210571                0.000000  \n",
       "5  0.000000                0.000000  "
      ]
     },
     "execution_count": 5,
     "metadata": {},
     "output_type": "execute_result"
    }
   ],
   "source": [
    "node =warmth.single_node()\n",
    "node.sediments_inputs = node_template\n",
    "node.sediments"
   ]
  },
  {
   "cell_type": "code",
   "execution_count": 6,
   "metadata": {},
   "outputs": [
    {
     "data": {
      "text/plain": [
       "top                       1608.0\n",
       "topage                        66\n",
       "k_cond                       1.5\n",
       "rhp                          0.0\n",
       "phi                          0.0\n",
       "decay                        0.0\n",
       "solidus                   2720.0\n",
       "liquidus                  2448.0\n",
       "erosion                        0\n",
       "erosion_duration               0\n",
       "base                      1973.0\n",
       "baseage                      100\n",
       "thickness                  365.0\n",
       "grain_thickness            0.365\n",
       "phi_mean                     0.0\n",
       "eroded_grain_thickness       0.0\n",
       "Name: 2, dtype: object"
      ]
     },
     "execution_count": 6,
     "metadata": {},
     "output_type": "execute_result"
    }
   ],
   "source": [
    "node.sediments.iloc[2]"
   ]
  },
  {
   "cell_type": "code",
   "execution_count": 7,
   "metadata": {},
   "outputs": [],
   "source": [
    "model.parameters.time_start=int(node.sediments[\"baseage\"].iloc[-1])\n",
    "model.parameters.time_end = 0"
   ]
  },
  {
   "cell_type": "code",
   "execution_count": 8,
   "metadata": {},
   "outputs": [],
   "source": [
    "node.has_salt = True\n",
    "node.salt_layer_id= [2]\n",
    "node.salt_thickness = [np.full(model.parameters.time_start+1, np.nan)]"
   ]
  },
  {
   "cell_type": "code",
   "execution_count": 9,
   "metadata": {},
   "outputs": [],
   "source": [
    "presentday_salt_thickness = node.sediments.iloc[2][\"base\"] - node.sediments.iloc[2][\"top\"]\n",
    "salt_end_deposition = node.sediments.iloc[2][\"topage\"]\n"
   ]
  },
  {
   "cell_type": "code",
   "execution_count": 10,
   "metadata": {},
   "outputs": [
    {
     "data": {
      "text/plain": [
       "[array([365.        , 368.56060606, 372.12121212, 375.68181818,\n",
       "        379.24242424, 382.8030303 , 386.36363636, 389.92424242,\n",
       "        393.48484848, 397.04545455, 400.60606061, 404.16666667,\n",
       "        407.72727273, 411.28787879, 414.84848485, 418.40909091,\n",
       "        421.96969697, 425.53030303, 429.09090909, 432.65151515,\n",
       "        436.21212121, 439.77272727, 443.33333333, 446.89393939,\n",
       "        450.45454545, 454.01515152, 457.57575758, 461.13636364,\n",
       "        464.6969697 , 468.25757576, 471.81818182, 475.37878788,\n",
       "        478.93939394, 482.5       , 486.06060606, 489.62121212,\n",
       "        493.18181818, 496.74242424, 500.3030303 , 503.86363636,\n",
       "        507.42424242, 510.98484848, 514.54545455, 518.10606061,\n",
       "        521.66666667, 525.22727273, 528.78787879, 532.34848485,\n",
       "        535.90909091, 539.46969697, 543.03030303, 546.59090909,\n",
       "        550.15151515, 553.71212121, 557.27272727, 560.83333333,\n",
       "        564.39393939, 567.95454545, 571.51515152, 575.07575758,\n",
       "        578.63636364, 582.1969697 , 585.75757576, 589.31818182,\n",
       "        592.87878788, 596.43939394, 600.        ,          nan,\n",
       "                 nan,          nan,          nan,          nan,\n",
       "                 nan,          nan,          nan,          nan,\n",
       "                 nan,          nan,          nan,          nan,\n",
       "                 nan,          nan,          nan,          nan,\n",
       "                 nan,          nan,          nan,          nan,\n",
       "                 nan,          nan,          nan,          nan,\n",
       "                 nan,          nan,          nan,          nan,\n",
       "                 nan,          nan,          nan,          nan,\n",
       "                 nan,          nan,          nan,          nan,\n",
       "                 nan,          nan,          nan,          nan,\n",
       "                 nan,          nan,          nan,          nan,\n",
       "                 nan,          nan,          nan,          nan,\n",
       "                 nan,          nan,          nan,          nan,\n",
       "                 nan,          nan,          nan,          nan,\n",
       "                 nan,          nan,          nan,          nan,\n",
       "                 nan,          nan,          nan,          nan,\n",
       "                 nan,          nan,          nan,          nan,\n",
       "                 nan,          nan,          nan,          nan,\n",
       "                 nan,          nan,          nan,          nan,\n",
       "                 nan,          nan,          nan,          nan,\n",
       "                 nan,          nan,          nan,          nan,\n",
       "                 nan,          nan,          nan,          nan,\n",
       "                 nan,          nan,          nan,          nan,\n",
       "                 nan])]"
      ]
     },
     "execution_count": 10,
     "metadata": {},
     "output_type": "execute_result"
    }
   ],
   "source": [
    "node.salt_thickness[0][int(salt_end_deposition)] = 600\n",
    "node.salt_thickness[0][0] =presentday_salt_thickness\n",
    "node.parse_salt()\n",
    "node.salt_thickness\n"
   ]
  },
  {
   "cell_type": "code",
   "execution_count": 11,
   "metadata": {},
   "outputs": [],
   "source": [
    "node.crustRHP = 2e-6 \n",
    "node.qbase = 30e-3\n",
    "node.rift = np.array([[160,145]])\n",
    "#node.paleoWD=np.array([200]) # Only for multi rift"
   ]
  },
  {
   "cell_type": "code",
   "execution_count": 12,
   "metadata": {},
   "outputs": [],
   "source": [
    "model.builder.nodes = [[node]]"
   ]
  },
  {
   "cell_type": "code",
   "execution_count": 13,
   "metadata": {},
   "outputs": [],
   "source": [
    "from warmth.data import haq87\n",
    "model.builder.set_eustatic_sea_level(haq87)"
   ]
  },
  {
   "cell_type": "code",
   "execution_count": 14,
   "metadata": {},
   "outputs": [],
   "source": [
    "model.simulator.run(parallel=False)\n"
   ]
  },
  {
   "cell_type": "code",
   "execution_count": 15,
   "metadata": {},
   "outputs": [
    {
     "name": "stdout",
     "output_type": "stream",
     "text": [
      "0 365.0\n",
      "1 368.560606060606\n",
      "2 372.121212121212\n",
      "3 375.68181818181824\n",
      "4 379.24242424242425\n",
      "5 382.8030303030305\n",
      "6 386.36363636363626\n",
      "7 389.9242424242425\n",
      "8 393.4848484848487\n",
      "9 397.0454545454545\n",
      "10 400.60606060606074\n",
      "11 404.1666666666665\n",
      "12 407.72727272727275\n",
      "13 411.287878787879\n",
      "14 414.84848484848476\n",
      "15 418.409090909091\n",
      "16 421.969696969697\n",
      "17 425.530303030303\n",
      "18 429.090909090909\n",
      "19 432.65151515151524\n",
      "20 436.21212121212136\n",
      "21 439.77272727272737\n",
      "22 443.33333333333337\n",
      "23 446.8939393939395\n",
      "24 450.4545454545454\n",
      "25 454.0151515151516\n",
      "26 457.5757575757576\n",
      "27 461.1363636363636\n",
      "28 464.69696969696975\n",
      "29 468.25757575757586\n",
      "30 471.818181818182\n",
      "31 475.3787878787879\n",
      "32 478.939393939394\n",
      "33 482.5\n",
      "34 486.0606060606061\n",
      "35 489.6212121212121\n",
      "36 493.18181818181813\n",
      "37 496.74242424242414\n",
      "38 500.3030303030305\n",
      "39 503.86363636363626\n",
      "40 507.42424242424227\n",
      "41 510.9848484848485\n",
      "42 514.5454545454545\n",
      "43 518.1060606060605\n",
      "44 521.6666666666666\n",
      "45 525.2272727272727\n",
      "46 528.787878787879\n",
      "47 532.348484848485\n",
      "48 535.9090909090909\n",
      "49 539.469696969697\n",
      "50 543.030303030303\n",
      "51 546.5909090909091\n",
      "52 550.1515151515152\n",
      "53 553.7121212121211\n",
      "54 557.2727272727273\n",
      "55 560.8333333333333\n",
      "56 564.3939393939394\n",
      "57 567.9545454545456\n",
      "58 571.5151515151515\n",
      "59 575.0757575757574\n",
      "60 578.6363636363636\n",
      "61 582.1969696969697\n",
      "62 585.7575757575756\n",
      "63 589.3181818181818\n",
      "64 592.8787878787879\n",
      "65 596.4393939393941\n",
      "66 600.0\n",
      "67 582.3529411764706\n",
      "68 564.7058823529412\n",
      "69 547.0588235294117\n",
      "70 529.4117647058823\n",
      "71 511.7647058823529\n",
      "72 494.11764705882354\n",
      "73 476.4705882352941\n",
      "74 458.8235294117647\n",
      "75 441.1764705882353\n",
      "76 423.52941176470586\n",
      "77 405.88235294117646\n",
      "78 388.2352941176471\n",
      "79 370.5882352941177\n",
      "80 352.9411764705882\n",
      "81 335.2941176470588\n",
      "82 317.6470588235294\n",
      "83 300.0\n",
      "84 282.3529411764706\n",
      "85 264.70588235294116\n",
      "86 247.05882352941177\n",
      "87 229.41176470588235\n",
      "88 211.76470588235293\n",
      "89 194.11764705882354\n",
      "90 176.4705882352941\n",
      "91 158.8235294117647\n",
      "92 141.1764705882353\n",
      "93 123.52941176470588\n",
      "94 105.88235294117646\n",
      "95 88.23529411764704\n",
      "96 70.58823529411765\n",
      "97 52.94117647058823\n",
      "98 35.294117647058826\n",
      "99 17.647058823529413\n",
      "100 0.0\n",
      "101 0.0\n",
      "102 0.0\n",
      "103 0.0\n",
      "104 0.0\n",
      "105 0.0\n",
      "106 0.0\n",
      "107 0.0\n",
      "108 0.0\n",
      "109 0.0\n"
     ]
    }
   ],
   "source": [
    "#salt thickness\n",
    "for i in range(110):\n",
    "    print(i,model.builder.nodes[0][0].sed[2,-1,i]-model.builder.nodes[0][0].sed[2,0,i])"
   ]
  },
  {
   "cell_type": "code",
   "execution_count": 16,
   "metadata": {},
   "outputs": [
    {
     "data": {
      "text/plain": [
       "array([  0.        , 636.77423989])"
      ]
     },
     "execution_count": 16,
     "metadata": {},
     "output_type": "execute_result"
    }
   ],
   "source": [
    "model.builder.nodes[0][0].sed[3,:,105]"
   ]
  },
  {
   "cell_type": "code",
   "execution_count": 17,
   "metadata": {},
   "outputs": [
    {
     "data": {
      "text/plain": [
       "array([1820.99999874, 2109.99999838])"
      ]
     },
     "execution_count": 17,
     "metadata": {},
     "output_type": "execute_result"
    }
   ],
   "source": [
    "model.builder.nodes[0][0].sed[3,:,0]"
   ]
  },
  {
   "cell_type": "code",
   "execution_count": 18,
   "metadata": {},
   "outputs": [
    {
     "data": {
      "text/plain": [
       "array([  0.        , 193.02427961])"
      ]
     },
     "execution_count": 18,
     "metadata": {},
     "output_type": "execute_result"
    }
   ],
   "source": [
    "model.builder.nodes[0][0].sed[4,:,145]"
   ]
  },
  {
   "cell_type": "code",
   "execution_count": 19,
   "metadata": {},
   "outputs": [
    {
     "data": {
      "text/plain": [
       "array([[176.47058824, 158.82352941, 141.17647059, 123.52941176,\n",
       "        105.88235294,  88.23529412,  70.58823529,  52.94117647,\n",
       "         35.29411765,  17.64705882,   0.        ,   0.        ,\n",
       "          0.        ,   0.        ,   0.        ,   0.        ,\n",
       "          0.        ,   0.        ,   0.        ,   0.        ,\n",
       "          0.        ,   0.        ,   0.        ,   0.        ,\n",
       "          0.        ,   0.        ,   0.        ,   0.        ,\n",
       "          0.        ,   0.        ],\n",
       "       [627.60038948, 613.69230864, 599.86755374, 586.12850411,\n",
       "        572.47761618, 558.91742589, 545.45055108, 532.07969394,\n",
       "        518.80764346, 505.63727791, 492.57156733, 522.16196611,\n",
       "        551.35747535, 580.17889107, 608.64529381, 636.77423989,\n",
       "        623.13763917, 609.42327515, 595.62925298, 581.75360223,\n",
       "        567.79427256, 553.74912918, 539.61594784, 525.3924096 ,\n",
       "        511.07609503, 496.66447805, 482.15491927, 467.54465875,\n",
       "        452.83080817, 438.01034231]])"
      ]
     },
     "execution_count": 19,
     "metadata": {},
     "output_type": "execute_result"
    }
   ],
   "source": [
    "model.builder.nodes[0][0].sed[3,:,90:120]"
   ]
  },
  {
   "cell_type": "code",
   "execution_count": 20,
   "metadata": {},
   "outputs": [
    {
     "data": {
      "text/plain": [
       "{'depth': array([ 954.09687753, 1446.66844486]),\n",
       " 'layerId': array([3], dtype=int32),\n",
       " 'values': array([ 5.        , 43.87042484])}"
      ]
     },
     "execution_count": 20,
     "metadata": {},
     "output_type": "execute_result"
    }
   ],
   "source": [
    "t100=model.builder.nodes[0][0].result.temperature(100,3)\n",
    "t100"
   ]
  },
  {
   "cell_type": "code",
   "execution_count": 21,
   "metadata": {},
   "outputs": [
    {
     "data": {
      "text/plain": [
       "{'depth': array([ 978.64142336, 1601.77906253]),\n",
       " 'layerId': array([3], dtype=int32),\n",
       " 'values': array([ 5.        , 50.52891764])}"
      ]
     },
     "execution_count": 21,
     "metadata": {},
     "output_type": "execute_result"
    }
   ],
   "source": [
    "t106=model.builder.nodes[0][0].result.temperature(106,3)\n",
    "t106"
   ]
  },
  {
   "cell_type": "code",
   "execution_count": 22,
   "metadata": {},
   "outputs": [
    {
     "data": {
      "text/plain": [
       "(623.1376391723019, 492.5715673273329, True)"
      ]
     },
     "execution_count": 22,
     "metadata": {},
     "output_type": "execute_result"
    }
   ],
   "source": [
    "# Check if approx. 100m is eroded\n",
    "t106[\"depth\"][-1]-t106[\"depth\"][0], t100[\"depth\"][-1]-t100[\"depth\"][0],t106[\"depth\"][-1]-t106[\"depth\"][0]> t100[\"depth\"][-1]-t100[\"depth\"][0]"
   ]
  },
  {
   "cell_type": "code",
   "execution_count": 23,
   "metadata": {},
   "outputs": [
    {
     "data": {
      "text/plain": [
       "{'depth': array([ 954.09687753, 1446.66844486]),\n",
       " 'layerId': array([3], dtype=int32),\n",
       " 'values': array([ 5.        , 43.87042484])}"
      ]
     },
     "execution_count": 23,
     "metadata": {},
     "output_type": "execute_result"
    }
   ],
   "source": [
    "model.builder.nodes[0][0].result.temperature(100,3)"
   ]
  },
  {
   "cell_type": "code",
   "execution_count": 24,
   "metadata": {},
   "outputs": [
    {
     "data": {
      "text/plain": [
       "array([[107.49888732, 106.64369752, 105.77474011, 104.89131697,\n",
       "        103.9926809 , 103.07803165, 102.14651156, 101.19720102,\n",
       "        100.22911454,  99.24119868,  98.23233355,  97.20134074,\n",
       "         96.1470029 ,  95.068104  ,  93.9635083 ,  92.83231433,\n",
       "         91.67416616,  90.48992942,  89.28335742,  88.06618163,\n",
       "         86.88660996,  86.18766567,  85.48021664,  84.76399632,\n",
       "         84.03872345,  83.30410129,  82.55981696,  81.80554097,\n",
       "         81.04092674,  80.2656104 ,  79.47921046,  78.68132743,\n",
       "         77.87154325,  77.04942022,  76.21449952,  75.36629925,\n",
       "         74.50431202,  73.62800226,  72.73680351,  71.8301154 ,\n",
       "         70.90730061,  69.9676816 ,  69.01053702,  68.03509772,\n",
       "         67.04054249,  66.02599323,  64.99050968,  63.93308359,\n",
       "         62.85263232,  61.74799179,  60.6179088 ,  59.46103269,\n",
       "         58.27590647,  57.06095747,  55.81448783,  54.53466543,\n",
       "         53.21951622,  51.86691968,  50.47461098,  49.04019594,\n",
       "         47.56119155,  46.03511885,  44.45971076,  42.83340176,\n",
       "         41.15663174,  39.4360755 ,  37.71633819,  37.24436158,\n",
       "         36.77484785,  36.30719009,  35.82269115,  35.36463726,\n",
       "         34.90989199,  34.45859108,  34.01087589,  33.56689364,\n",
       "         33.12679767,  32.69074772,  32.25891019,  31.83145857,\n",
       "         31.40857375,  30.99044461,  30.57726851,  30.16925203,\n",
       "         29.76661186,  29.36957591,  28.97838465,  28.59329294,\n",
       "         28.21457221,  27.84251323,  27.47742931,  27.11965941,\n",
       "         26.76956887,  26.42753773,  26.09387994,  25.76921646,\n",
       "         25.45677633,  25.15750759,  24.87531414,  24.61994038,\n",
       "         24.43521242,  25.2968171 ,  26.10942714,  26.86761381,\n",
       "         27.55784944,  28.15890079,  27.76445882,  27.36496436,\n",
       "         26.96024916,  26.55013567,  26.13443638,  25.71295313,\n",
       "         25.28547641,  24.85178461,  24.41164321,  23.96480394,\n",
       "         23.51100381,  23.04996401,  22.58138858,  22.10496293,\n",
       "         21.62035198,  21.127198  ,  20.62511826,  20.11370223,\n",
       "         19.59250853,  19.0610616 ,  18.51884786,  17.96531156,\n",
       "         17.39984992,  16.82180783,  16.23047165,  15.62506234,\n",
       "         15.00472753,  14.36853255,  13.7154502 ,  13.04434908,\n",
       "         12.35398052,  11.64296398,  10.90977167,  10.15271382,\n",
       "          9.36992929,   8.55939252,   7.71896393,   6.84654413,\n",
       "          5.94044124]])"
      ]
     },
     "execution_count": 24,
     "metadata": {},
     "output_type": "execute_result"
    }
   ],
   "source": [
    "model.builder.nodes[0][0].result.temperature_history(3)"
   ]
  },
  {
   "cell_type": "code",
   "execution_count": 25,
   "metadata": {},
   "outputs": [
    {
     "name": "stdout",
     "output_type": "stream",
     "text": [
      "50 345.0272974451856 934.3476621033566\n",
      "51 346.74088812153786 915.7863806219041\n",
      "52 348.5086273573488 896.9821704428969\n",
      "53 350.33360706774647 877.9240332488025\n",
      "54 352.219185400014 858.6001371004924\n",
      "55 354.16901810012246 838.9977254460628\n",
      "56 356.18709465218944 819.1030129587577\n",
      "57 358.27778009398037 798.9010657970508\n",
      "58 360.445863618517 778.37566334229\n",
      "59 362.6966153350796 757.5091377881362\n",
      "60 365.03585290036585 736.2821870863092\n",
      "61 367.47002016683064 714.6736556335059\n",
      "62 370.0062805641602 692.6602756300889\n",
      "63 372.6526286790057 670.2163601342116\n",
      "64 375.41802449462637 647.3134363088288\n",
      "65 378.31255609248285 623.9198039752667\n",
      "66 381.3476384424172 600.0\n",
      "67 383.6372063056615 582.3529411764706\n",
      "68 385.9707829371814 564.7058823529412\n",
      "69 388.34948489852786 547.0588235294117\n",
      "70 390.77446344681505 529.4117647058823\n",
      "71 393.246905744502 511.7647058823529\n",
      "72 395.76803611167907 494.11764705882354\n",
      "73 398.3391173220197 476.4705882352941\n",
      "74 400.96145194354443 458.8235294117647\n",
      "75 403.636383725313 441.1764705882353\n",
      "76 406.3652990311307 423.52941176470586\n",
      "77 409.14962832131107 405.88235294117646\n",
      "78 411.9908476834812 388.2352941176471\n",
      "79 414.8904804133508 370.5882352941177\n",
      "80 417.8500986462824 352.9411764705882\n",
      "81 420.87132504040653 335.2941176470588\n",
      "82 423.9558345119126 317.6470588235294\n",
      "83 427.10535602300854 300.0\n",
      "84 430.32167442289574 282.3529411764706\n",
      "85 433.60663234192356 264.70588235294116\n",
      "86 436.962132138885 247.05882352941177\n",
      "87 440.3901379011895 229.41176470588235\n",
      "88 443.89267749737826 211.76470588235293\n",
      "89 447.47184468116063 194.11764705882354\n",
      "90 451.1298012458074 176.4705882352941\n",
      "91 454.86877922737466 158.8235294117647\n",
      "92 458.6910831548035 141.1764705882353\n",
      "93 462.59909234448594 123.52941176470588\n",
      "94 466.5952632363652 105.88235294117646\n",
      "95 470.6821317680724 88.23529411764704\n",
      "96 474.86231578296895 70.58823529411765\n",
      "97 479.1385174672758 52.94117647058823\n",
      "98 483.51352581070313 35.294117647058826\n",
      "99 487.99021908417654 17.647058823529413\n",
      "100 492.5715673273329 0.0\n",
      "101 522.1619661143299 0.0\n",
      "102 551.3574753514731 0.0\n",
      "103 580.1788910731926 0.0\n",
      "104 608.6452938110173 0.0\n"
     ]
    }
   ],
   "source": [
    "# Check no decompaction with eroded\n",
    "for i in np.arange(50,105,1, dtype=int):\n",
    "    val=model.builder.nodes[0][0].sed[3,:,i]\n",
    "    print(i,val[-1]-val[0],val[0])"
   ]
  },
  {
   "cell_type": "code",
   "execution_count": 26,
   "metadata": {},
   "outputs": [
    {
     "data": {
      "text/plain": [
       "{'depth': array([1289.70108408, 1556.61501113]),\n",
       " 'layerId': array([3], dtype=int32),\n",
       " 'values': array([ 5.        , 27.46094329])}"
      ]
     },
     "execution_count": 26,
     "metadata": {},
     "output_type": "execute_result"
    }
   ],
   "source": [
    "model.builder.nodes[0][0].result.temperature(130,3)"
   ]
  },
  {
   "cell_type": "code",
   "execution_count": 27,
   "metadata": {},
   "outputs": [
    {
     "data": {
      "text/plain": [
       "{'depth': array([1361.32044795, 1455.96463284]),\n",
       " 'layerId': array([3], dtype=int32),\n",
       " 'values': array([ 5.        , 13.73985858])}"
      ]
     },
     "execution_count": 27,
     "metadata": {},
     "output_type": "execute_result"
    }
   ],
   "source": [
    "model.builder.nodes[0][0].result.temperature(140,3)"
   ]
  },
  {
   "cell_type": "code",
   "execution_count": 28,
   "metadata": {},
   "outputs": [
    {
     "data": {
      "text/plain": [
       "{'depth': array([ 954.09687753, 1446.66844486]),\n",
       " 'layerId': array([3], dtype=int32),\n",
       " 'values': array([ 5.        , 43.87042484])}"
      ]
     },
     "execution_count": 28,
     "metadata": {},
     "output_type": "execute_result"
    }
   ],
   "source": [
    "model.builder.nodes[0][0].result.temperature(100,3)"
   ]
  },
  {
   "cell_type": "code",
   "execution_count": 29,
   "metadata": {},
   "outputs": [
    {
     "data": {
      "text/plain": [
       "array([[0.59160359, 0.58602709, 0.58077596, 0.57569393, 0.57057927,\n",
       "        0.56522695, 0.55947973, 0.55327009, 0.54663764, 0.53971781,\n",
       "        0.53270887, 0.52583046, 0.51928607, 0.51323564, 0.50777698,\n",
       "        0.50293095, 0.49863292, 0.49474526, 0.49110057, 0.48755864,\n",
       "        0.48403335, 0.48033218, 0.47626446, 0.47182983, 0.46706946,\n",
       "        0.46205944, 0.45689972, 0.45170127, 0.446574  , 0.44161706,\n",
       "        0.43691189, 0.43251688, 0.4284609 , 0.42473267, 0.42126705,\n",
       "        0.41793583, 0.41455526, 0.41091792, 0.40684307, 0.40222735,\n",
       "        0.39707482, 0.39149563, 0.38567671, 0.37983858, 0.37419367,\n",
       "        0.36891623, 0.36412469, 0.35986577, 0.35608266, 0.35257064,\n",
       "        0.34897327, 0.34488059, 0.34000749, 0.33433725, 0.32813081,\n",
       "        0.32180963, 0.31580063, 0.31042491, 0.30585473, 0.30211121,\n",
       "        0.29906548, 0.29647117, 0.29408374, 0.29179566, 0.28965574,\n",
       "        0.28777599, 0.28622974, 0.28484126, 0.28342956, 0.28200721,\n",
       "        0.28059   , 0.27918943, 0.27781247, 0.2764683 , 0.27516465,\n",
       "        0.27390774, 0.27270231, 0.27155173, 0.27045812, 0.26942251,\n",
       "        0.268445  , 0.26752493, 0.26666101, 0.26585145, 0.26509412,\n",
       "        0.26438661, 0.26372635, 0.26311066, 0.26253682, 0.26200211,\n",
       "        0.26150385, 0.26103943, 0.26060634, 0.26020214, 0.25982453,\n",
       "        0.25947131, 0.25914028, 0.25882928, 0.25853614, 0.25825844,\n",
       "        0.2579923 , 0.25770001, 0.25733824, 0.25689405, 0.25635248,\n",
       "        0.25569554, 0.25497898, 0.25426619, 0.25354045, 0.25278374,\n",
       "        0.25197798, 0.25110655, 0.25015579, 0.24911639, 0.24798433,\n",
       "        0.24676134, 0.24545486, 0.24407739, 0.24264551, 0.24117859,\n",
       "        0.23969741, 0.23822289, 0.23677489, 0.23537135, 0.23402761,\n",
       "        0.23275607, 0.23156607, 0.23046395, 0.22945326, 0.22853508,\n",
       "        0.22770841, 0.22697049, 0.22631727, 0.22574369, 0.22524404,\n",
       "        0.22481221, 0.22444192, 0.22412693, 0.22386114, 0.22363873,\n",
       "        0.22345422, 0.22330253, 0.22317901, 0.22307943, 0.223     ]])"
      ]
     },
     "execution_count": 29,
     "metadata": {},
     "output_type": "execute_result"
    }
   ],
   "source": [
    "model.builder.nodes[0][0].result.vitrinite_reflectance_history(3)"
   ]
  },
  {
   "cell_type": "code",
   "execution_count": 30,
   "metadata": {},
   "outputs": [
    {
     "name": "stderr",
     "output_type": "stream",
     "text": [
      "/workspaces/warmth/warmth/postprocessing.py:194: RuntimeWarning: invalid value encountered in divide\n",
      "  v=-1*initial_poro/initial_decay*phi1\n"
     ]
    },
    {
     "data": {
      "image/png": "[encoded data removed]",
      "text/plain": [
       "<Figure size 640x480 with 1 Axes>"
      ]
     },
     "metadata": {},
     "output_type": "display_data"
    }
   ],
   "source": [
    "%matplotlib inline\n",
    "import matplotlib.pyplot as plt\n",
    "plt.plot(node.result.ages,[node.result.basement_heatflow(age)*1000 for age in node.result.ages])\n",
    "plt.gca().invert_xaxis()\n",
    "plt.xlabel(\"Time (Ma)\")\n",
    "plt.ylabel(\"Basement heat flow (mW/m2)\")\n",
    "plt.show()"
   ]
  },
  {
   "cell_type": "code",
   "execution_count": 31,
   "metadata": {},
   "outputs": [
    {
     "data": {
      "application/vnd.jupyter.widget-view+json": {
       "model_id": "94afdb6eaeaf4e7db55ec20661cddd25",
       "version_major": 2,
       "version_minor": 0
      },
      "text/plain": [
       "interactive(children=(IntSlider(value=0, description='age', max=160), Output()), _dom_classes=('widget-interac…"
      ]
     },
     "metadata": {},
     "output_type": "display_data"
    },
    {
     "data": {
      "text/plain": [
       "<function __main__.plot_cell_bound(age)>"
      ]
     },
     "execution_count": 31,
     "metadata": {},
     "output_type": "execute_result"
    }
   ],
   "source": [
    "import ipywidgets as widgets\n",
    "import matplotlib.pyplot as plt\n",
    "\n",
    "def plot_cell_bound(age):\n",
    "    t = node.result.temperature(age)\n",
    "    plt.plot(t[\"values\"],t[\"depth\"])\n",
    "    plt.gca().invert_yaxis()\n",
    "    plt.xlabel(\"Temperature (C)\")\n",
    "    plt.ylabel(\"Depth (m)\")\n",
    "    plt.ylim(top=0,bottom=node.result.temperature(age,-2)[\"depth\"][0]+1000)\n",
    "    plt.show()\n",
    "\n",
    "widgets.interact(plot_cell_bound, age = widgets.IntSlider(value=0,max=node.result.ages[-1],min=node.result.ages[0],step=1))"
   ]
  },
  {
   "cell_type": "code",
   "execution_count": 32,
   "metadata": {},
   "outputs": [
    {
     "data": {
      "application/vnd.jupyter.widget-view+json": {
       "model_id": "61ed7dffbbec439a99a12d945b1924b9",
       "version_major": 2,
       "version_minor": 0
      },
      "text/plain": [
       "interactive(children=(IntSlider(value=0, description='age', max=160), Output()), _dom_classes=('widget-interac…"
      ]
     },
     "metadata": {},
     "output_type": "display_data"
    },
    {
     "data": {
      "text/plain": [
       "<function __main__.plot_cell_properties(age)>"
      ]
     },
     "execution_count": 32,
     "metadata": {},
     "output_type": "execute_result"
    }
   ],
   "source": [
    "def plot_cell_properties(age):\n",
    "    t = node.result.effective_conductivity(age)\n",
    "    plt.plot(t[\"values\"],t[\"depth\"])\n",
    "    plt.gca().invert_yaxis()\n",
    "    plt.xlabel(\"Conductivity\")\n",
    "    plt.ylabel(\"Depth (m)\")\n",
    "    plt.ylim(top=0,bottom=node.result.temperature(age,-1)[\"depth\"][0])\n",
    "    plt.show()\n",
    "\n",
    "widgets.interact(plot_cell_properties, age = widgets.IntSlider(value=0,max=node.result.ages[-1],min=node.result.ages[0],step=1))"
   ]
  },
  {
   "cell_type": "code",
   "execution_count": null,
   "metadata": {},
   "outputs": [],
   "source": []
  }
 ],
 "metadata": {
  "file_extension": ".py",
  "interpreter": {
   "hash": "949777d72b0d2535278d3dc13498b2535136f6dfe0678499012e853ee9abcab1"
  },
  "kernelspec": {
   "display_name": "Python 3 (ipykernel)",
   "language": "python",
   "name": "python3"
  },
  "language_info": {
   "codemirror_mode": {
    "name": "ipython",
    "version": 3
   },
   "file_extension": ".py",
   "mimetype": "text/x-python",
   "name": "python",
   "nbconvert_exporter": "python",
   "pygments_lexer": "ipython3",
   "version": "3.10.13"
  },
  "mimetype": "text/x-python",
  "name": "python",
  "npconvert_exporter": "python",
  "pygments_lexer": "ipython3",
  "version": 3,
  "widgets": {
   "application/vnd.jupyter.widget-state+json": {
    "state": {
     "0185ef8d693f4ab982d1705628dbbeb2": {
      "model_module": "@jupyter-widgets/base",
      "model_module_version": "2.0.0",
      "model_name": "LayoutModel",
      "state": {}
     },
     "02d24398d3254ec295540967890f768a": {
      "model_module": "@jupyter-widgets/output",
      "model_module_version": "1.0.0",
      "model_name": "OutputModel",
      "state": {
       "layout": "IPY_MODEL_758620ec57e341b7993df0c12d9c08ad",
       "outputs": [
        {
         "data": {
          "image/png": "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",
          "text/plain": "<Figure size 640x480 with 1 Axes>"
         },
         "metadata": {},
         "output_type": "display_data"
        }
       ]
      }
     },
     "0c68277544d7437182e89d0c5d6c7086": {
      "model_module": "@jupyter-widgets/controls",
      "model_module_version": "2.0.0",
      "model_name": "SliderStyleModel",
      "state": {
       "description_width": ""
      }
     },
     "11f9837608404d918adb49e5bad261e8": {
      "model_module": "@jupyter-widgets/output",
      "model_module_version": "1.0.0",
      "model_name": "OutputModel",
      "state": {
       "layout": "IPY_MODEL_f3cb7266dade4ae4b7e5e9f700b306ff",
       "outputs": [
        {
         "data": {
          "image/png": "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",
          "text/plain": "<Figure size 640x480 with 1 Axes>"
         },
         "metadata": {},
         "output_type": "display_data"
        }
       ]
      }
     },
     "1a1bbbddd35f4a6490b9a07ea3a72594": {
      "model_module": "@jupyter-widgets/base",
      "model_module_version": "2.0.0",
      "model_name": "LayoutModel",
      "state": {}
     },
     "1bbc6de012be4cb986d04f6616b9f48b": {
      "model_module": "@jupyter-widgets/controls",
      "model_module_version": "2.0.0",
      "model_name": "VBoxModel",
      "state": {
       "_dom_classes": [
        "widget-interact"
       ],
       "children": [
        "IPY_MODEL_fd7f7fe59fa7413796bb5e641bb32e5a",
        "IPY_MODEL_02d24398d3254ec295540967890f768a"
       ],
       "layout": "IPY_MODEL_0185ef8d693f4ab982d1705628dbbeb2"
      }
     },
     "22c527e5a7714c399c4cb985f5b58e62": {
      "model_module": "@jupyter-widgets/controls",
      "model_module_version": "2.0.0",
      "model_name": "IntSliderModel",
      "state": {
       "behavior": "drag-tap",
       "description": "age",
       "layout": "IPY_MODEL_6b9ea2b4d8234647bb6e9dc69080f674",
       "max": 160,
       "style": "IPY_MODEL_f7dc4ea782684123896598475476f25c"
      }
     },
     "2813a48754d64e74b6fafbb012fc8723": {
      "model_module": "@jupyter-widgets/output",
      "model_module_version": "1.0.0",
      "model_name": "OutputModel",
      "state": {
       "layout": "IPY_MODEL_e0401b6cbe324989be64dbbb73ec10dc",
       "outputs": [
        {
         "data": {
          "image/png": "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",
          "text/plain": "<Figure size 640x480 with 1 Axes>"
         },
         "metadata": {},
         "output_type": "display_data"
        }
       ]
      }
     },
     "2a14db8efe4a40bea36eef03ce11b706": {
      "model_module": "@jupyter-widgets/base",
      "model_module_version": "2.0.0",
      "model_name": "LayoutModel",
      "state": {}
     },
     "2d278bba204f45baa1ae048b8fe2f78b": {
      "model_module": "@jupyter-widgets/base",
      "model_module_version": "2.0.0",
      "model_name": "LayoutModel",
      "state": {}
     },
     "38f5899d708f4251870f6f249a9bd4b2": {
      "model_module": "@jupyter-widgets/controls",
      "model_module_version": "2.0.0",
      "model_name": "SliderStyleModel",
      "state": {
       "description_width": ""
      }
     },
     "3b93a2970b1d4c699a1081550b53d41e": {
      "model_module": "@jupyter-widgets/output",
      "model_module_version": "1.0.0",
      "model_name": "OutputModel",
      "state": {
       "layout": "IPY_MODEL_59dd390cd39b4f3a9b6ab683190889c4",
       "outputs": [
        {
         "data": {
          "image/png": "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",
          "text/plain": "<Figure size 640x480 with 1 Axes>"
         },
         "metadata": {},
         "output_type": "display_data"
        }
       ]
      }
     },
     "3d438475ed3843758cfc264b4735356e": {
      "model_module": "@jupyter-widgets/controls",
      "model_module_version": "2.0.0",
      "model_name": "IntSliderModel",
      "state": {
       "behavior": "drag-tap",
       "description": "age",
       "layout": "IPY_MODEL_1a1bbbddd35f4a6490b9a07ea3a72594",
       "max": 160,
       "style": "IPY_MODEL_4d007ff19c30436989cf034bad2ca26a"
      }
     },
     "407f4d4754b740edb04169e226279788": {
      "model_module": "@jupyter-widgets/base",
      "model_module_version": "2.0.0",
      "model_name": "LayoutModel",
      "state": {}
     },
     "411937cbb8c14065a71fb304f290eff0": {
      "model_module": "@jupyter-widgets/base",
      "model_module_version": "2.0.0",
      "model_name": "LayoutModel",
      "state": {}
     },
     "435d439137234a3d827e2d2302bf1301": {
      "model_module": "@jupyter-widgets/base",
      "model_module_version": "2.0.0",
      "model_name": "LayoutModel",
      "state": {}
     },
     "4647d951203742d2bf4b9c9b7096a79b": {
      "model_module": "@jupyter-widgets/base",
      "model_module_version": "2.0.0",
      "model_name": "LayoutModel",
      "state": {}
     },
     "4d007ff19c30436989cf034bad2ca26a": {
      "model_module": "@jupyter-widgets/controls",
      "model_module_version": "2.0.0",
      "model_name": "SliderStyleModel",
      "state": {
       "description_width": ""
      }
     },
     "4d348d2b9a5b491a8927c6a557141ba9": {
      "model_module": "@jupyter-widgets/controls",
      "model_module_version": "2.0.0",
      "model_name": "IntSliderModel",
      "state": {
       "behavior": "drag-tap",
       "description": "age",
       "layout": "IPY_MODEL_5a2792e13973491bb7d71651f3fa3277",
       "max": 160,
       "style": "IPY_MODEL_0c68277544d7437182e89d0c5d6c7086"
      }
     },
     "4dff516b451c4c09af16bac5ea21cf51": {
      "model_module": "@jupyter-widgets/controls",
      "model_module_version": "2.0.0",
      "model_name": "IntSliderModel",
      "state": {
       "behavior": "drag-tap",
       "description": "age",
       "layout": "IPY_MODEL_69ef88fa1c5745999304baecdbcae9a7",
       "max": 160,
       "style": "IPY_MODEL_cf66a26d1a57454b827efa480f888728"
      }
     },
     "580a62f94b2941e6a1a01d6e86a60c15": {
      "model_module": "@jupyter-widgets/base",
      "model_module_version": "2.0.0",
      "model_name": "LayoutModel",
      "state": {}
     },
     "59dd390cd39b4f3a9b6ab683190889c4": {
      "model_module": "@jupyter-widgets/base",
      "model_module_version": "2.0.0",
      "model_name": "LayoutModel",
      "state": {}
     },
     "5a2792e13973491bb7d71651f3fa3277": {
      "model_module": "@jupyter-widgets/base",
      "model_module_version": "2.0.0",
      "model_name": "LayoutModel",
      "state": {}
     },
     "643565c072d1472f89f025cad37f74a2": {
      "model_module": "@jupyter-widgets/controls",
      "model_module_version": "2.0.0",
      "model_name": "VBoxModel",
      "state": {
       "_dom_classes": [
        "widget-interact"
       ],
       "children": [
        "IPY_MODEL_68914537a6114c49906f83cae748c1ed",
        "IPY_MODEL_a73da55beb754876bb615689d3427772"
       ],
       "layout": "IPY_MODEL_f42c94e6d8634d699ea8402678826827"
      }
     },
     "65742f0aa21f434399e312d95232ceb0": {
      "model_module": "@jupyter-widgets/controls",
      "model_module_version": "2.0.0",
      "model_name": "VBoxModel",
      "state": {
       "_dom_classes": [
        "widget-interact"
       ],
       "children": [
        "IPY_MODEL_944ef13c281749088e5485de7cf4e6a5",
        "IPY_MODEL_de67e4e8dec740fc9be7065cd2718680"
       ],
       "layout": "IPY_MODEL_f7ededc21a4b495ab7f4b0735e039cd1"
      }
     },
     "68914537a6114c49906f83cae748c1ed": {
      "model_module": "@jupyter-widgets/controls",
      "model_module_version": "2.0.0",
      "model_name": "IntSliderModel",
      "state": {
       "behavior": "drag-tap",
       "description": "age",
       "layout": "IPY_MODEL_8b0e1a605f8941a6a562de0bd873a500",
       "max": 160,
       "style": "IPY_MODEL_38f5899d708f4251870f6f249a9bd4b2"
      }
     },
     "69ef88fa1c5745999304baecdbcae9a7": {
      "model_module": "@jupyter-widgets/base",
      "model_module_version": "2.0.0",
      "model_name": "LayoutModel",
      "state": {}
     },
     "6b9ea2b4d8234647bb6e9dc69080f674": {
      "model_module": "@jupyter-widgets/base",
      "model_module_version": "2.0.0",
      "model_name": "LayoutModel",
      "state": {}
     },
     "70a9efcadd084e8a8285fe48fdedc6c2": {
      "model_module": "@jupyter-widgets/controls",
      "model_module_version": "2.0.0",
      "model_name": "IntSliderModel",
      "state": {
       "behavior": "drag-tap",
       "description": "age",
       "layout": "IPY_MODEL_e2a06d1113d247c691f9b7b96c302dcd",
       "max": 160,
       "style": "IPY_MODEL_f51037eeedff4ced8ac41daba653a496"
      }
     },
     "758620ec57e341b7993df0c12d9c08ad": {
      "model_module": "@jupyter-widgets/base",
      "model_module_version": "2.0.0",
      "model_name": "LayoutModel",
      "state": {}
     },
     "8b0e1a605f8941a6a562de0bd873a500": {
      "model_module": "@jupyter-widgets/base",
      "model_module_version": "2.0.0",
      "model_name": "LayoutModel",
      "state": {}
     },
     "8f5829d9ed364bbca7d1d46abf7b6747": {
      "model_module": "@jupyter-widgets/base",
      "model_module_version": "2.0.0",
      "model_name": "LayoutModel",
      "state": {}
     },
     "944ef13c281749088e5485de7cf4e6a5": {
      "model_module": "@jupyter-widgets/controls",
      "model_module_version": "2.0.0",
      "model_name": "IntSliderModel",
      "state": {
       "behavior": "drag-tap",
       "description": "age",
       "layout": "IPY_MODEL_a4110b80c9c04cc4b91d6ccba47ab7de",
       "max": 160,
       "style": "IPY_MODEL_dbf2cca8dbe64afcb25194fa8a5f2809",
       "value": 160
      }
     },
     "9fed85cdcf4a46669765014901877f5a": {
      "model_module": "@jupyter-widgets/controls",
      "model_module_version": "2.0.0",
      "model_name": "SliderStyleModel",
      "state": {
       "description_width": ""
      }
     },
     "a24b6be13f80481983c89e603fa8f58e": {
      "model_module": "@jupyter-widgets/base",
      "model_module_version": "2.0.0",
      "model_name": "LayoutModel",
      "state": {}
     },
     "a4110b80c9c04cc4b91d6ccba47ab7de": {
      "model_module": "@jupyter-widgets/base",
      "model_module_version": "2.0.0",
      "model_name": "LayoutModel",
      "state": {}
     },
     "a6039c0e02d644e8b024422b5ea02797": {
      "model_module": "@jupyter-widgets/controls",
      "model_module_version": "2.0.0",
      "model_name": "VBoxModel",
      "state": {
       "_dom_classes": [
        "widget-interact"
       ],
       "children": [
        "IPY_MODEL_4d348d2b9a5b491a8927c6a557141ba9",
        "IPY_MODEL_ac98ff9d97cf4518b1df739e89da3aeb"
       ],
       "layout": "IPY_MODEL_d7330370aea2426db14b189a337428fc"
      }
     },
     "a73da55beb754876bb615689d3427772": {
      "model_module": "@jupyter-widgets/output",
      "model_module_version": "1.0.0",
      "model_name": "OutputModel",
      "state": {
       "layout": "IPY_MODEL_d0bbc682344245f4997de9aba6246c19",
       "outputs": [
        {
         "ename": "NameError",
         "evalue": "name 'ylim' is not defined",
         "output_type": "error",
         "traceback": [
          "\u001b[0;31m---------------------------------------------------------------------------\u001b[0m",
          "\u001b[0;31mNameError\u001b[0m                                 Traceback (most recent call last)",
          "File \u001b[0;32m/workspaces/SubsHeat/.venv/lib/python3.11/site-packages/ipywidgets/widgets/interaction.py:240\u001b[0m, in \u001b[0;36minteractive.update\u001b[0;34m(self, *args)\u001b[0m\n\u001b[1;32m    238\u001b[0m     value \u001b[38;5;241m=\u001b[39m widget\u001b[38;5;241m.\u001b[39mget_interact_value()\n\u001b[1;32m    239\u001b[0m     \u001b[38;5;28mself\u001b[39m\u001b[38;5;241m.\u001b[39mkwargs[widget\u001b[38;5;241m.\u001b[39m_kwarg] \u001b[38;5;241m=\u001b[39m value\n\u001b[0;32m--> 240\u001b[0m \u001b[38;5;28mself\u001b[39m\u001b[38;5;241m.\u001b[39mresult \u001b[38;5;241m=\u001b[39m \u001b[38;5;28;43mself\u001b[39;49m\u001b[38;5;241;43m.\u001b[39;49m\u001b[43mf\u001b[49m\u001b[43m(\u001b[49m\u001b[38;5;241;43m*\u001b[39;49m\u001b[38;5;241;43m*\u001b[39;49m\u001b[38;5;28;43mself\u001b[39;49m\u001b[38;5;241;43m.\u001b[39;49m\u001b[43mkwargs\u001b[49m\u001b[43m)\u001b[49m\n\u001b[1;32m    241\u001b[0m show_inline_matplotlib_plots()\n\u001b[1;32m    242\u001b[0m \u001b[38;5;28;01mif\u001b[39;00m \u001b[38;5;28mself\u001b[39m\u001b[38;5;241m.\u001b[39mauto_display \u001b[38;5;129;01mand\u001b[39;00m \u001b[38;5;28mself\u001b[39m\u001b[38;5;241m.\u001b[39mresult \u001b[38;5;129;01mis\u001b[39;00m \u001b[38;5;129;01mnot\u001b[39;00m \u001b[38;5;28;01mNone\u001b[39;00m:\n",
          "Cell \u001b[0;32mIn[14], line 10\u001b[0m, in \u001b[0;36mplot_new\u001b[0;34m(age)\u001b[0m\n\u001b[1;32m      8\u001b[0m plt\u001b[38;5;241m.\u001b[39mxlabel(\u001b[38;5;124m\"\u001b[39m\u001b[38;5;124mTemperature (C)\u001b[39m\u001b[38;5;124m\"\u001b[39m)\n\u001b[1;32m      9\u001b[0m plt\u001b[38;5;241m.\u001b[39mylabel(\u001b[38;5;124m\"\u001b[39m\u001b[38;5;124mDepth (m)\u001b[39m\u001b[38;5;124m\"\u001b[39m)\n\u001b[0;32m---> 10\u001b[0m \u001b[43mylim\u001b[49m(bottom\u001b[38;5;241m=\u001b[39m\u001b[38;5;241m10000\u001b[39m)\n\u001b[1;32m     11\u001b[0m plt\u001b[38;5;241m.\u001b[39mshow()\n",
          "\u001b[0;31mNameError\u001b[0m: name 'ylim' is not defined"
         ]
        }
       ]
      }
     },
     "a86a9cdc43d8457693cb323da50cfb00": {
      "model_module": "@jupyter-widgets/base",
      "model_module_version": "2.0.0",
      "model_name": "LayoutModel",
      "state": {}
     },
     "ac98ff9d97cf4518b1df739e89da3aeb": {
      "model_module": "@jupyter-widgets/output",
      "model_module_version": "1.0.0",
      "model_name": "OutputModel",
      "state": {
       "layout": "IPY_MODEL_f5a5c6bc3df140cea6d1590813cd90c5",
       "outputs": [
        {
         "data": {
          "image/png": "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",
          "text/plain": "<Figure size 640x480 with 1 Axes>"
         },
         "metadata": {},
         "output_type": "display_data"
        }
       ]
      }
     },
     "adf3e6274e4843f5a0cf3b17076c64c3": {
      "model_module": "@jupyter-widgets/output",
      "model_module_version": "1.0.0",
      "model_name": "OutputModel",
      "state": {
       "layout": "IPY_MODEL_f41915b1e7da4168829934d23cbdd52e",
       "outputs": [
        {
         "data": {
          "image/png": "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",
          "text/plain": "<Figure size 640x480 with 1 Axes>"
         },
         "metadata": {},
         "output_type": "display_data"
        }
       ]
      }
     },
     "b98ec51a2ee143458f184c9eca349ea4": {
      "model_module": "@jupyter-widgets/base",
      "model_module_version": "2.0.0",
      "model_name": "LayoutModel",
      "state": {}
     },
     "c091f4150a0b4a028ed432df81ebbdcf": {
      "model_module": "@jupyter-widgets/output",
      "model_module_version": "1.0.0",
      "model_name": "OutputModel",
      "state": {
       "layout": "IPY_MODEL_b98ec51a2ee143458f184c9eca349ea4",
       "outputs": [
        {
         "data": {
          "image/png": "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",
          "text/plain": "<Figure size 640x480 with 1 Axes>"
         },
         "metadata": {},
         "output_type": "display_data"
        }
       ]
      }
     },
     "c580f13906364745a1f5a755d177e310": {
      "model_module": "@jupyter-widgets/controls",
      "model_module_version": "2.0.0",
      "model_name": "VBoxModel",
      "state": {
       "_dom_classes": [
        "widget-interact"
       ],
       "children": [
        "IPY_MODEL_3d438475ed3843758cfc264b4735356e",
        "IPY_MODEL_c091f4150a0b4a028ed432df81ebbdcf"
       ],
       "layout": "IPY_MODEL_580a62f94b2941e6a1a01d6e86a60c15"
      }
     },
     "c8147b2683f641d3ab1327725b9ee83f": {
      "model_module": "@jupyter-widgets/output",
      "model_module_version": "1.0.0",
      "model_name": "OutputModel",
      "state": {
       "layout": "IPY_MODEL_2a14db8efe4a40bea36eef03ce11b706",
       "outputs": [
        {
         "data": {
          "image/png": "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",
          "text/plain": "<Figure size 640x480 with 1 Axes>"
         },
         "metadata": {},
         "output_type": "display_data"
        }
       ]
      }
     },
     "cf66a26d1a57454b827efa480f888728": {
      "model_module": "@jupyter-widgets/controls",
      "model_module_version": "2.0.0",
      "model_name": "SliderStyleModel",
      "state": {
       "description_width": ""
      }
     },
     "d0bbc682344245f4997de9aba6246c19": {
      "model_module": "@jupyter-widgets/base",
      "model_module_version": "2.0.0",
      "model_name": "LayoutModel",
      "state": {}
     },
     "d5014411c3714181b792d3f02084c196": {
      "model_module": "@jupyter-widgets/controls",
      "model_module_version": "2.0.0",
      "model_name": "IntSliderModel",
      "state": {
       "behavior": "drag-tap",
       "description": "age",
       "layout": "IPY_MODEL_a24b6be13f80481983c89e603fa8f58e",
       "max": 160,
       "style": "IPY_MODEL_d771d5aca4114303b8dbe85c67899d5d"
      }
     },
     "d501487e35f843e98d7fad46ccb4b13e": {
      "model_module": "@jupyter-widgets/controls",
      "model_module_version": "2.0.0",
      "model_name": "IntSliderModel",
      "state": {
       "behavior": "drag-tap",
       "description": "age",
       "layout": "IPY_MODEL_411937cbb8c14065a71fb304f290eff0",
       "max": 160,
       "style": "IPY_MODEL_e0debe9e4d5d49a09aa4d8b1b2ccbe03"
      }
     },
     "d7330370aea2426db14b189a337428fc": {
      "model_module": "@jupyter-widgets/base",
      "model_module_version": "2.0.0",
      "model_name": "LayoutModel",
      "state": {}
     },
     "d771d5aca4114303b8dbe85c67899d5d": {
      "model_module": "@jupyter-widgets/controls",
      "model_module_version": "2.0.0",
      "model_name": "SliderStyleModel",
      "state": {
       "description_width": ""
      }
     },
     "dbf2cca8dbe64afcb25194fa8a5f2809": {
      "model_module": "@jupyter-widgets/controls",
      "model_module_version": "2.0.0",
      "model_name": "SliderStyleModel",
      "state": {
       "description_width": ""
      }
     },
     "de67e4e8dec740fc9be7065cd2718680": {
      "model_module": "@jupyter-widgets/output",
      "model_module_version": "1.0.0",
      "model_name": "OutputModel",
      "state": {
       "layout": "IPY_MODEL_a86a9cdc43d8457693cb323da50cfb00",
       "outputs": [
        {
         "data": {
          "image/png": "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",
          "text/plain": "<Figure size 640x480 with 1 Axes>"
         },
         "metadata": {},
         "output_type": "display_data"
        }
       ]
      }
     },
     "e0401b6cbe324989be64dbbb73ec10dc": {
      "model_module": "@jupyter-widgets/base",
      "model_module_version": "2.0.0",
      "model_name": "LayoutModel",
      "state": {}
     },
     "e0debe9e4d5d49a09aa4d8b1b2ccbe03": {
      "model_module": "@jupyter-widgets/controls",
      "model_module_version": "2.0.0",
      "model_name": "SliderStyleModel",
      "state": {
       "description_width": ""
      }
     },
     "e25cc2cad0144f46b366df66dae12e20": {
      "model_module": "@jupyter-widgets/base",
      "model_module_version": "2.0.0",
      "model_name": "LayoutModel",
      "state": {}
     },
     "e2a06d1113d247c691f9b7b96c302dcd": {
      "model_module": "@jupyter-widgets/base",
      "model_module_version": "2.0.0",
      "model_name": "LayoutModel",
      "state": {}
     },
     "e4b43f02191043ea90acf0b987d6693a": {
      "model_module": "@jupyter-widgets/controls",
      "model_module_version": "2.0.0",
      "model_name": "VBoxModel",
      "state": {
       "_dom_classes": [
        "widget-interact"
       ],
       "children": [
        "IPY_MODEL_22c527e5a7714c399c4cb985f5b58e62",
        "IPY_MODEL_3b93a2970b1d4c699a1081550b53d41e"
       ],
       "layout": "IPY_MODEL_4647d951203742d2bf4b9c9b7096a79b"
      }
     },
     "e65d19479b224a9abee147eb655e67f6": {
      "model_module": "@jupyter-widgets/controls",
      "model_module_version": "2.0.0",
      "model_name": "VBoxModel",
      "state": {
       "_dom_classes": [
        "widget-interact"
       ],
       "children": [
        "IPY_MODEL_d501487e35f843e98d7fad46ccb4b13e",
        "IPY_MODEL_2813a48754d64e74b6fafbb012fc8723"
       ],
       "layout": "IPY_MODEL_435d439137234a3d827e2d2302bf1301"
      }
     },
     "f035e2147721474cbfccdc4779035ed2": {
      "model_module": "@jupyter-widgets/controls",
      "model_module_version": "2.0.0",
      "model_name": "VBoxModel",
      "state": {
       "_dom_classes": [
        "widget-interact"
       ],
       "children": [
        "IPY_MODEL_4dff516b451c4c09af16bac5ea21cf51",
        "IPY_MODEL_c8147b2683f641d3ab1327725b9ee83f"
       ],
       "layout": "IPY_MODEL_2d278bba204f45baa1ae048b8fe2f78b"
      }
     },
     "f3cb7266dade4ae4b7e5e9f700b306ff": {
      "model_module": "@jupyter-widgets/base",
      "model_module_version": "2.0.0",
      "model_name": "LayoutModel",
      "state": {}
     },
     "f41915b1e7da4168829934d23cbdd52e": {
      "model_module": "@jupyter-widgets/base",
      "model_module_version": "2.0.0",
      "model_name": "LayoutModel",
      "state": {}
     },
     "f42c94e6d8634d699ea8402678826827": {
      "model_module": "@jupyter-widgets/base",
      "model_module_version": "2.0.0",
      "model_name": "LayoutModel",
      "state": {}
     },
     "f51037eeedff4ced8ac41daba653a496": {
      "model_module": "@jupyter-widgets/controls",
      "model_module_version": "2.0.0",
      "model_name": "SliderStyleModel",
      "state": {
       "description_width": ""
      }
     },
     "f5a5c6bc3df140cea6d1590813cd90c5": {
      "model_module": "@jupyter-widgets/base",
      "model_module_version": "2.0.0",
      "model_name": "LayoutModel",
      "state": {}
     },
     "f7dc4ea782684123896598475476f25c": {
      "model_module": "@jupyter-widgets/controls",
      "model_module_version": "2.0.0",
      "model_name": "SliderStyleModel",
      "state": {
       "description_width": ""
      }
     },
     "f7ededc21a4b495ab7f4b0735e039cd1": {
      "model_module": "@jupyter-widgets/base",
      "model_module_version": "2.0.0",
      "model_name": "LayoutModel",
      "state": {}
     },
     "f8ef2c4ebbbf4903b35ac05b372abcdc": {
      "model_module": "@jupyter-widgets/controls",
      "model_module_version": "2.0.0",
      "model_name": "VBoxModel",
      "state": {
       "_dom_classes": [
        "widget-interact"
       ],
       "children": [
        "IPY_MODEL_d5014411c3714181b792d3f02084c196",
        "IPY_MODEL_11f9837608404d918adb49e5bad261e8"
       ],
       "layout": "IPY_MODEL_407f4d4754b740edb04169e226279788"
      }
     },
     "fb4657112cba4ff6af04195fc346b11c": {
      "model_module": "@jupyter-widgets/controls",
      "model_module_version": "2.0.0",
      "model_name": "VBoxModel",
      "state": {
       "_dom_classes": [
        "widget-interact"
       ],
       "children": [
        "IPY_MODEL_70a9efcadd084e8a8285fe48fdedc6c2",
        "IPY_MODEL_adf3e6274e4843f5a0cf3b17076c64c3"
       ],
       "layout": "IPY_MODEL_e25cc2cad0144f46b366df66dae12e20"
      }
     },
     "fd7f7fe59fa7413796bb5e641bb32e5a": {
      "model_module": "@jupyter-widgets/controls",
      "model_module_version": "2.0.0",
      "model_name": "IntSliderModel",
      "state": {
       "behavior": "drag-tap",
       "description": "age",
       "layout": "IPY_MODEL_8f5829d9ed364bbca7d1d46abf7b6747",
       "max": 160,
       "style": "IPY_MODEL_9fed85cdcf4a46669765014901877f5a"
      }
     }
    },
    "version_major": 2,
    "version_minor": 0
   }
  }
 },
 "nbformat": 4,
 "nbformat_minor": 4
}
