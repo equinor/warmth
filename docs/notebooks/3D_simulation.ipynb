{
 "cells": [
  {
   "cell_type": "code",
   "execution_count": 3,
   "metadata": {},
   "outputs": [],
   "source": [
    "import warmth\n",
    "from pathlib import Path"
   ]
  },
  {
   "cell_type": "code",
   "execution_count": 3,
   "metadata": {},
   "outputs": [
    {
     "data": {
      "text/plain": [
       "0.03"
      ]
     },
     "execution_count": 3,
     "metadata": {},
     "output_type": "execute_result"
    }
   ],
   "source": [
    "1e-6*30e3"
   ]
  },
  {
   "cell_type": "code",
   "execution_count": 2,
   "metadata": {},
   "outputs": [
    {
     "data": {
      "text/plain": [
       "0.03"
      ]
     },
     "execution_count": 2,
     "metadata": {},
     "output_type": "execute_result"
    }
   ],
   "source": [
    "30e-3"
   ]
  },
  {
   "cell_type": "code",
   "execution_count": null,
   "metadata": {},
   "outputs": [],
   "source": [
    "maps_dir = Path(\"./data/\")"
   ]
  },
  {
   "cell_type": "code",
   "execution_count": null,
   "metadata": {},
   "outputs": [],
   "source": [
    "model = warmth.Model()"
   ]
  },
  {
   "cell_type": "code",
   "execution_count": null,
   "metadata": {},
   "outputs": [],
   "source": [
    "inputs = model.builder.input_horizons_template"
   ]
  },
  {
   "cell_type": "code",
   "execution_count": null,
   "metadata": {},
   "outputs": [],
   "source": [
    "#Add surface grids to the table. You can use other method as well\n",
    "inputs.loc[0]=[0,\"0.gri\",None,\"Onlap\"]\n",
    "inputs.loc[1]=[66,\"66.gri\",None,\"Onlap\"]\n",
    "inputs.loc[2]=[100,\"100.gri\",None,\"Onlap\"]\n",
    "inputs.loc[3]=[163,\"163.gri\",None,\"Erosive\"]\n",
    "inputs.loc[4]=[168,\"168.gri\",None,\"Erosive\"]\n",
    "inputs.loc[5]=[170,\"170.gri\",None,\"Onlap\"]\n",
    "inputs.loc[6]=[182,\"182.gri\",None,\"Erosive\"]\n",
    "model.builder.input_horizons=inputs\n",
    "inputs"
   ]
  },
  {
   "cell_type": "code",
   "execution_count": null,
   "metadata": {},
   "outputs": [],
   "source": [
    "inc = 2000\n",
    "model.builder.define_geometry(maps_dir/\"0.gri\",xinc=inc,yinc=inc,fformat=\"irap_binary\")"
   ]
  },
  {
   "cell_type": "code",
   "execution_count": null,
   "metadata": {},
   "outputs": [],
   "source": [
    "model.builder.grid.__dict__"
   ]
  },
  {
   "cell_type": "code",
   "execution_count": null,
   "metadata": {},
   "outputs": [],
   "source": [
    "model.builder.extract_nodes(4,maps_dir)"
   ]
  },
  {
   "cell_type": "code",
   "execution_count": null,
   "metadata": {},
   "outputs": [],
   "source": [
    "model.parameters.time_start"
   ]
  },
  {
   "cell_type": "code",
   "execution_count": null,
   "metadata": {},
   "outputs": [],
   "source": [
    "from warmth.data import haq87\n",
    "model.builder.set_eustatic_sea_level(haq87)"
   ]
  },
  {
   "cell_type": "code",
   "execution_count": null,
   "metadata": {},
   "outputs": [],
   "source": [
    "for i in model.builder.iter_node():\n",
    "    i.rift=[[182,175]]\n",
    "    i.bflux = False\n",
    "    i.adiab = 0.3e-3    "
   ]
  },
  {
   "cell_type": "code",
   "execution_count": null,
   "metadata": {},
   "outputs": [],
   "source": [
    "model.simulator.simulate_every = 1\n",
    "model.parameters.HPdcr = 1e11  # set to \"infinite\" decay\n",
    "model.parameters.bflux = False  # set to \"infinite\" decay\n"
   ]
  },
  {
   "cell_type": "code",
   "execution_count": null,
   "metadata": {},
   "outputs": [],
   "source": [
    "model.builder.n_valid_node"
   ]
  },
  {
   "cell_type": "code",
   "execution_count": null,
   "metadata": {},
   "outputs": [],
   "source": [
    "model.builder.node"
   ]
  },
  {
   "cell_type": "code",
   "execution_count": null,
   "metadata": {},
   "outputs": [],
   "source": [
    "model.builder.iter_node()"
   ]
  },
  {
   "cell_type": "code",
   "execution_count": 4,
   "metadata": {},
   "outputs": [
    {
     "ename": "NameError",
     "evalue": "name 'model' is not defined",
     "output_type": "error",
     "traceback": [
      "\u001b[0;31m---------------------------------------------------------------------------\u001b[0m",
      "\u001b[0;31mNameError\u001b[0m                                 Traceback (most recent call last)",
      "\u001b[1;32m/workspaces/warmth/docs/notebooks/3D_simulation.ipynb Cell 14\u001b[0m line \u001b[0;36m1\n\u001b[0;32m----> <a href='vscode-notebook-cell://codespaces%2Bobscure-meme-qpw4jj4pgvp34j7v/workspaces/warmth/docs/notebooks/3D_simulation.ipynb#X45sdnNjb2RlLXJlbW90ZQ%3D%3D?line=0'>1</a>\u001b[0m \u001b[39mfor\u001b[39;00m i \u001b[39min\u001b[39;00m model\u001b[39m.\u001b[39mbuilder\u001b[39m.\u001b[39mnode:\n\u001b[1;32m      <a href='vscode-notebook-cell://codespaces%2Bobscure-meme-qpw4jj4pgvp34j7v/workspaces/warmth/docs/notebooks/3D_simulation.ipynb#X45sdnNjb2RlLXJlbW90ZQ%3D%3D?line=1'>2</a>\u001b[0m     \u001b[39mprint\u001b[39m(i)\n",
      "\u001b[0;31mNameError\u001b[0m: name 'model' is not defined"
     ]
    }
   ],
   "source": [
    "for i in model.builder.node:\n",
    "    print(i)"
   ]
  },
  {
   "cell_type": "code",
   "execution_count": null,
   "metadata": {},
   "outputs": [],
   "source": [
    "%%time\n",
    "model.simulator.run(save=True,purge=True)"
   ]
  },
  {
   "cell_type": "code",
   "execution_count": null,
   "metadata": {},
   "outputs": [],
   "source": [
    "\n",
    "# interpolate and extrapolate the missing nodes\n",
    "# find nearby nodes from the array indexer_full_sim, which is sorted by x-index\n",
    "import itertools\n",
    "from subsheat3D.fixed_mesh_model import interpolateNode\n",
    "for ni in range(len(model.builder.nodes)):\n",
    "    for nj in range(len(model.builder.nodes[ni])):\n",
    "        if model.builder.nodes[ni][nj] is False:\n",
    "            closest_x_up = []\n",
    "            for j in range(ni,len(model.builder.nodes[nj])):\n",
    "                matching_x = [ i[0] for i in model.builder.indexer_full_sim if i[0]==j ]\n",
    "                closest_x_up = closest_x_up + list(set(matching_x))\n",
    "                if len(matching_x)>0:\n",
    "                    break\n",
    "            closest_x_down = []\n",
    "            for j in range(ni-1,-1,-1):\n",
    "                matching_x = [ i[0] for i in model.builder.indexer_full_sim if i[0]==j ]\n",
    "                closest_x_down = closest_x_down + list(set(matching_x))\n",
    "                if len(matching_x)>0:\n",
    "                    break\n",
    "            closest_y_up = []\n",
    "            for j in range(nj,len(model.builder.nodes[ni])):\n",
    "                matching_y = [ i[1] for i in model.builder.indexer_full_sim if (i[1]==j and ((i[0] in closest_x_up) or i[0] in closest_x_down)) ]\n",
    "                closest_y_up = closest_y_up + list(set(matching_y))\n",
    "                if len(matching_y)>0:\n",
    "                    break\n",
    "            closest_y_down = []\n",
    "            for j in range(nj-1,-1,-1):\n",
    "                matching_y = [ i[1] for i in model.builder.indexer_full_sim if (i[1]==j and (i[0] in closest_x_up or i[0] in closest_x_down) ) ]\n",
    "                closest_y_down = closest_y_down + list(set(matching_y))\n",
    "                if len(matching_y)>0:\n",
    "                    break\n",
    "\n",
    "            interpolationNodes = [  model.builder.nodes[i[0]][i[1]] for i in itertools.product(closest_x_up+closest_x_down, closest_y_up+closest_y_down)  ]\n",
    "            interpolationNodes = [nn for nn in interpolationNodes if nn is not False]\n",
    "            node = interpolateNode(interpolationNodes)\n",
    "            node.X, node.Y = model.builder.grid.location_grid[ni,nj,:]\n",
    "            model.builder.nodes[ni][nj] = node\n",
    "        else:\n",
    "            node = interpolateNode([model.builder.nodes[ni][nj]])  # \"interpolate\" the node from itself to make sure the same member variables exist at the end\n",
    "            model.builder.nodes[ni][nj] = node\n",
    "        # if (model.builder.nodes[ni][nj].Y>12000):\n",
    "        #     model.builder.nodes[ni][nj].crustRHP = (2e-6) * 4\n",
    "        #     model.builder.nodes[ni][nj].rhp = (2e-6) * 4\n"
   ]
  },
  {
   "cell_type": "code",
   "execution_count": 15,
   "metadata": {},
   "outputs": [
    {
     "name": "stdout",
     "output_type": "stream",
     "text": [
      "Rebuild/reload mesh at tti= 182\n",
      "Using 1D Node parameters NodeParameters1D(shf=0.03, hc=30000.0, hw=3600.0, hLith=130000.0, kLith=3.109, kCrust=2.5, kAsth=100, rhp=2, crustliquid=2500.0, crustsolid=2800.0, lithliquid=2700.0, lithsolid=3300.0, asthliquid=2700.0, asthsolid=3200.0, T0=5, Tm=1330.0, qbase=0.03)\n",
      "builing\n",
      "buildVertices\n"
     ]
    },
    {
     "ename": "",
     "evalue": "",
     "output_type": "error",
     "traceback": [
      "\u001b[1;31mThe Kernel crashed while executing code in the the current cell or a previous cell. Please review the code in the cell(s) to identify a possible cause of the failure. Click <a href='https://aka.ms/vscodeJupyterKernelCrash'>here</a> for more info. View Jupyter <a href='command:jupyter.viewOutput'>log</a> for further details."
     ]
    }
   ],
   "source": [
    "from warmth.mesh_model import run\n",
    "import os\n",
    "try:\n",
    "    os.mkdir('mesh')\n",
    "except FileExistsError:\n",
    "    pass\n",
    "try:\n",
    "    os.mkdir('temp')\n",
    "except FileExistsError:\n",
    "    pass\n",
    "mm2 = run(model,start_time=model.parameters.time_start,end_time=0)\n",
    "\n"
   ]
  },
  {
   "cell_type": "code",
   "execution_count": null,
   "metadata": {},
   "outputs": [],
   "source": [
    "import numpy as np\n",
    "hx = model.builder.grid.num_nodes_x // 2\n",
    "hy = model.builder.grid.num_nodes_y // 2\n",
    "# hx = model.builder.grid.num_nodes_x - 1 - pad\n",
    "# hy = model.builder.grid.num_nodes_y - 1 - pad\n",
    "\n",
    "nn = model.builder.nodes[hy][hx]\n",
    "dd = nn._depth_out[:,0]\n",
    "\n",
    "node_ind = hy*model.builder.grid.num_nodes_x + hx\n",
    "v_per_n = int(mm2.mesh_vertices.shape[0]/(model.builder.grid.num_nodes_y*model.builder.grid.num_nodes_x))\n",
    "\n",
    "temp_1d = np.nan_to_num(nn.temperature_out[:,0], nan=5.0)\n",
    "temp_3d_ind = np.array([ np.where([mm2.mesh_reindex==i])[1][0] for i in range(node_ind*v_per_n, (node_ind+1)*v_per_n) ] )\n",
    "dd_mesh = mm2.mesh.geometry.x[temp_3d_ind,2]\n",
    "temp_3d_mesh = mm2.u_n.x.array[temp_3d_ind]\n",
    "\n",
    "temp_1d_at_mesh_pos = np.interp(dd_mesh, dd, temp_1d)\n",
    "dd_subset = np.where(dd_mesh<5000)\n",
    "print(f'Max. absolute error in temperature at 3D mesh vertex positions: {np.amax(np.abs(temp_1d_at_mesh_pos-temp_3d_mesh))}')\n",
    "print(f'Max. absolute error at depths < 5000m: {np.amax(np.abs(temp_1d_at_mesh_pos[dd_subset]-temp_3d_mesh[dd_subset]))}')\n"
   ]
  },
  {
   "cell_type": "code",
   "execution_count": null,
   "metadata": {},
   "outputs": [],
   "source": [
    "%matplotlib\n",
    "import matplotlib as plt\n",
    "plt.use('TkAgg')\n",
    "\n",
    "plt.pyplot.plot( dd, temp_1d, label=f'1D simulation'); \n",
    "# plt.pyplot.plot( dd, temp_3d, label=f'3D simulation'); \n",
    "plt.pyplot.plot( dd_mesh, temp_3d_mesh, 'o', label=f'3D simulation (nodes)'); \n",
    "plt.pyplot.legend(loc=\"lower right\", prop={'size': 7})\n",
    "plt.pyplot.show()\n"
   ]
  }
 ],
 "metadata": {
  "kernelspec": {
   "display_name": "Python 3.9.10 64-bit",
   "language": "python",
   "name": "python3"
  },
  "language_info": {
   "codemirror_mode": {
    "name": "ipython",
    "version": 3
   },
   "file_extension": ".py",
   "mimetype": "text/x-python",
   "name": "python",
   "nbconvert_exporter": "python",
   "pygments_lexer": "ipython3",
   "version": "3.9.10"
  },
  "vscode": {
   "interpreter": {
    "hash": "e51a2b4e99f2ffc4c1b139fefabaf83a9a6f27184f9cac248baef6121453d47a"
   }
  }
 },
 "nbformat": 4,
 "nbformat_minor": 2
}
