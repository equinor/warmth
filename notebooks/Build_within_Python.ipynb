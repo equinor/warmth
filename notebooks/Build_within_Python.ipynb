{
 "cells": [
  {
   "cell_type": "markdown",
   "metadata": {},
   "source": [
    "# Build 1D model"
   ]
  },
  {
   "cell_type": "code",
   "execution_count": 1,
   "metadata": {
    "execution": {
     "iopub.execute_input": "2023-10-27T12:51:41.648253Z",
     "iopub.status.busy": "2023-10-27T12:51:41.647986Z",
     "iopub.status.idle": "2023-10-27T12:51:42.494358Z",
     "shell.execute_reply": "2023-10-27T12:51:42.493644Z"
    },
    "scrolled": true
   },
   "outputs": [],
   "source": [
    "import sys\n",
    "sys.path.append(\"../\")\n",
    "import numpy as np\n",
    "import temperer\n",
    "from temperer.forward_modelling import Forward_model"
   ]
  },
  {
   "cell_type": "code",
   "execution_count": 2,
   "metadata": {
    "execution": {
     "iopub.execute_input": "2023-10-27T12:51:42.497982Z",
     "iopub.status.busy": "2023-10-27T12:51:42.497604Z",
     "iopub.status.idle": "2023-10-27T12:51:42.501883Z",
     "shell.execute_reply": "2023-10-27T12:51:42.501326Z"
    }
   },
   "outputs": [],
   "source": [
    "model = temperer.Model()"
   ]
  },
  {
   "cell_type": "code",
   "execution_count": 3,
   "metadata": {
    "execution": {
     "iopub.execute_input": "2023-10-27T12:51:42.504985Z",
     "iopub.status.busy": "2023-10-27T12:51:42.504441Z",
     "iopub.status.idle": "2023-10-27T12:51:42.518278Z",
     "shell.execute_reply": "2023-10-27T12:51:42.517771Z"
    }
   },
   "outputs": [
    {
     "name": "stderr",
     "output_type": "stream",
     "text": [
      "/tmp/ipykernel_2076/1143012394.py:13: FutureWarning: The behavior of DataFrame concatenation with empty or all-NA entries is deprecated. In a future version, this will no longer exclude empty or all-NA columns when determining the result dtypes. To retain the old behavior, exclude the relevant entries before the concat operation.\n",
      "  node_template = pd.concat([node_template, new], ignore_index=True)\n"
     ]
    }
   ],
   "source": [
    "import pandas as pd\n",
    "node_template=model.builder.single_node_sediments_inputs_template\n",
    "h1 = [152.0,0.0,1.500000,2.301755e-09,0.620000,0.500,2720.0,2448.0]\n",
    "h2=[810.0,20.0,1.538462,2.079433e-09,0.599730,0.490,2708.0,2437.2]\n",
    "h3=[1608.0,66,1.500000,2.301755e-09,0.2,0.500,2720.0,2448.0]\n",
    "h4=[1973.0,100,1.500000,2.301755e-09,0.620000,0.500,2720.0,2448.0]\n",
    "h5=[2262.0,145,1.500000,2.301755e-09,0.620000,0.500,2720.0,2448.0]\n",
    "h6=[2362.0,152,1.904762,4.719506e-10,0.447705,0.415,2618.0,2356.2]\n",
    "h7=[2427.0,160,1.500000,2.301755e-09,0.620000,0.500,2720.0,2448.0]\n",
    "horizons=[h1,h2,h3,h4,h5,h6,h7]\n",
    "for i in horizons:\n",
    "    new =pd.DataFrame.from_dict({'top': [i[0]], 'topage': [int(i[1])], 'k_cond': [i[2]], 'rhp':[i[3]], 'phi':[i[4]], 'decay':[i[5]], 'solidus':[i[6]],'liquidus':[i[7]]})\n",
    "    node_template = pd.concat([node_template, new], ignore_index=True)\n",
    "   "
   ]
  },
  {
   "cell_type": "markdown",
   "metadata": {},
   "source": [
    "Create a single node and add it to the model"
   ]
  },
  {
   "cell_type": "code",
   "execution_count": 4,
   "metadata": {
    "execution": {
     "iopub.execute_input": "2023-10-27T12:51:42.551929Z",
     "iopub.status.busy": "2023-10-27T12:51:42.551336Z",
     "iopub.status.idle": "2023-10-27T12:51:42.580293Z",
     "shell.execute_reply": "2023-10-27T12:51:42.579588Z"
    }
   },
   "outputs": [
    {
     "data": {
      "text/html": [
       "<div>\n",
       "<style scoped>\n",
       "    .dataframe tbody tr th:only-of-type {\n",
       "        vertical-align: middle;\n",
       "    }\n",
       "\n",
       "    .dataframe tbody tr th {\n",
       "        vertical-align: top;\n",
       "    }\n",
       "\n",
       "    .dataframe thead th {\n",
       "        text-align: right;\n",
       "    }\n",
       "</style>\n",
       "<table border=\"1\" class=\"dataframe\">\n",
       "  <thead>\n",
       "    <tr style=\"text-align: right;\">\n",
       "      <th></th>\n",
       "      <th>top</th>\n",
       "      <th>topage</th>\n",
       "      <th>k_cond</th>\n",
       "      <th>rhp</th>\n",
       "      <th>phi</th>\n",
       "      <th>decay</th>\n",
       "      <th>solidus</th>\n",
       "      <th>liquidus</th>\n",
       "      <th>base</th>\n",
       "      <th>baseage</th>\n",
       "      <th>thickness</th>\n",
       "      <th>grain_thickness</th>\n",
       "      <th>phi_mean</th>\n",
       "    </tr>\n",
       "  </thead>\n",
       "  <tbody>\n",
       "    <tr>\n",
       "      <th>0</th>\n",
       "      <td>152.0</td>\n",
       "      <td>0</td>\n",
       "      <td>1.500000</td>\n",
       "      <td>2.301755e-09</td>\n",
       "      <td>0.620000</td>\n",
       "      <td>0.500</td>\n",
       "      <td>2720.0</td>\n",
       "      <td>2448.0</td>\n",
       "      <td>810.0</td>\n",
       "      <td>20</td>\n",
       "      <td>658.0</td>\n",
       "      <td>0.310357</td>\n",
       "      <td>0.528332</td>\n",
       "    </tr>\n",
       "    <tr>\n",
       "      <th>1</th>\n",
       "      <td>810.0</td>\n",
       "      <td>20</td>\n",
       "      <td>1.538462</td>\n",
       "      <td>2.079433e-09</td>\n",
       "      <td>0.599730</td>\n",
       "      <td>0.490</td>\n",
       "      <td>2708.0</td>\n",
       "      <td>2437.2</td>\n",
       "      <td>1608.0</td>\n",
       "      <td>66</td>\n",
       "      <td>798.0</td>\n",
       "      <td>0.511062</td>\n",
       "      <td>0.359571</td>\n",
       "    </tr>\n",
       "    <tr>\n",
       "      <th>2</th>\n",
       "      <td>1608.0</td>\n",
       "      <td>66</td>\n",
       "      <td>1.500000</td>\n",
       "      <td>2.301755e-09</td>\n",
       "      <td>0.200000</td>\n",
       "      <td>0.500</td>\n",
       "      <td>2720.0</td>\n",
       "      <td>2448.0</td>\n",
       "      <td>1973.0</td>\n",
       "      <td>100</td>\n",
       "      <td>365.0</td>\n",
       "      <td>0.332780</td>\n",
       "      <td>0.088275</td>\n",
       "    </tr>\n",
       "    <tr>\n",
       "      <th>3</th>\n",
       "      <td>1973.0</td>\n",
       "      <td>100</td>\n",
       "      <td>1.500000</td>\n",
       "      <td>2.301755e-09</td>\n",
       "      <td>0.620000</td>\n",
       "      <td>0.500</td>\n",
       "      <td>2720.0</td>\n",
       "      <td>2448.0</td>\n",
       "      <td>2262.0</td>\n",
       "      <td>145</td>\n",
       "      <td>289.0</td>\n",
       "      <td>0.221878</td>\n",
       "      <td>0.232256</td>\n",
       "    </tr>\n",
       "    <tr>\n",
       "      <th>4</th>\n",
       "      <td>2262.0</td>\n",
       "      <td>145</td>\n",
       "      <td>1.500000</td>\n",
       "      <td>2.301755e-09</td>\n",
       "      <td>0.620000</td>\n",
       "      <td>0.500</td>\n",
       "      <td>2720.0</td>\n",
       "      <td>2448.0</td>\n",
       "      <td>2362.0</td>\n",
       "      <td>152</td>\n",
       "      <td>100.0</td>\n",
       "      <td>0.078943</td>\n",
       "      <td>0.210571</td>\n",
       "    </tr>\n",
       "    <tr>\n",
       "      <th>5</th>\n",
       "      <td>2362.0</td>\n",
       "      <td>152</td>\n",
       "      <td>1.904762</td>\n",
       "      <td>4.719506e-10</td>\n",
       "      <td>0.447705</td>\n",
       "      <td>0.415</td>\n",
       "      <td>2618.0</td>\n",
       "      <td>2356.2</td>\n",
       "      <td>2427.0</td>\n",
       "      <td>160</td>\n",
       "      <td>65.0</td>\n",
       "      <td>0.053525</td>\n",
       "      <td>0.176536</td>\n",
       "    </tr>\n",
       "  </tbody>\n",
       "</table>\n",
       "</div>"
      ],
      "text/plain": [
       "      top topage    k_cond           rhp       phi  decay  solidus  liquidus  \\\n",
       "0   152.0      0  1.500000  2.301755e-09  0.620000  0.500   2720.0    2448.0   \n",
       "1   810.0     20  1.538462  2.079433e-09  0.599730  0.490   2708.0    2437.2   \n",
       "2  1608.0     66  1.500000  2.301755e-09  0.200000  0.500   2720.0    2448.0   \n",
       "3  1973.0    100  1.500000  2.301755e-09  0.620000  0.500   2720.0    2448.0   \n",
       "4  2262.0    145  1.500000  2.301755e-09  0.620000  0.500   2720.0    2448.0   \n",
       "5  2362.0    152  1.904762  4.719506e-10  0.447705  0.415   2618.0    2356.2   \n",
       "\n",
       "     base baseage  thickness  grain_thickness  phi_mean  \n",
       "0   810.0      20      658.0         0.310357  0.528332  \n",
       "1  1608.0      66      798.0         0.511062  0.359571  \n",
       "2  1973.0     100      365.0         0.332780  0.088275  \n",
       "3  2262.0     145      289.0         0.221878  0.232256  \n",
       "4  2362.0     152      100.0         0.078943  0.210571  \n",
       "5  2427.0     160       65.0         0.053525  0.176536  "
      ]
     },
     "execution_count": 4,
     "metadata": {},
     "output_type": "execute_result"
    }
   ],
   "source": [
    "node =temperer.single_node()\n",
    "node.sediments_inputs = node_template\n",
    "node.sediments"
   ]
  },
  {
   "cell_type": "code",
   "execution_count": 5,
   "metadata": {
    "execution": {
     "iopub.execute_input": "2023-10-27T12:51:42.583828Z",
     "iopub.status.busy": "2023-10-27T12:51:42.583396Z",
     "iopub.status.idle": "2023-10-27T12:51:42.586873Z",
     "shell.execute_reply": "2023-10-27T12:51:42.586213Z"
    }
   },
   "outputs": [],
   "source": [
    "model.parameters.time_start=int(node.sediments[\"baseage\"].iloc[-1])\n",
    "model.parameters.time_end = 0"
   ]
  },
  {
   "cell_type": "code",
   "execution_count": 6,
   "metadata": {
    "execution": {
     "iopub.execute_input": "2023-10-27T12:51:42.589568Z",
     "iopub.status.busy": "2023-10-27T12:51:42.589149Z",
     "iopub.status.idle": "2023-10-27T12:51:42.592443Z",
     "shell.execute_reply": "2023-10-27T12:51:42.591786Z"
    }
   },
   "outputs": [],
   "source": [
    "node.shf = 60e-3\n",
    "node.qbase = 30e-3\n",
    "node.rift = np.array([[160,145]])\n",
    "#node.paleoWD=np.array([200]) # Only for mulit rift"
   ]
  },
  {
   "cell_type": "code",
   "execution_count": 7,
   "metadata": {
    "execution": {
     "iopub.execute_input": "2023-10-27T12:51:42.595488Z",
     "iopub.status.busy": "2023-10-27T12:51:42.594950Z",
     "iopub.status.idle": "2023-10-27T12:51:42.598149Z",
     "shell.execute_reply": "2023-10-27T12:51:42.597541Z"
    }
   },
   "outputs": [],
   "source": [
    "model.builder.nodes = [[node]]"
   ]
  },
  {
   "cell_type": "code",
   "execution_count": 8,
   "metadata": {
    "execution": {
     "iopub.execute_input": "2023-10-27T12:51:42.600893Z",
     "iopub.status.busy": "2023-10-27T12:51:42.600487Z",
     "iopub.status.idle": "2023-10-27T12:51:42.603949Z",
     "shell.execute_reply": "2023-10-27T12:51:42.603326Z"
    }
   },
   "outputs": [],
   "source": [
    "from temperer.data import haq87\n",
    "model.builder.set_eustatic_sea_level(haq87)"
   ]
  },
  {
   "cell_type": "code",
   "execution_count": 9,
   "metadata": {
    "execution": {
     "iopub.execute_input": "2023-10-27T12:51:42.606780Z",
     "iopub.status.busy": "2023-10-27T12:51:42.606412Z",
     "iopub.status.idle": "2023-10-27T12:51:43.224748Z",
     "shell.execute_reply": "2023-10-27T12:51:43.223923Z"
    }
   },
   "outputs": [
    {
     "name": "stdout",
     "output_type": "stream",
     "text": [
      "CPU times: user 654 ms, sys: 63.5 ms, total: 717 ms\n",
      "Wall time: 613 ms\n"
     ]
    }
   ],
   "source": [
    "%%time\n",
    "model.simulator.run(parallel=False)\n"
   ]
  },
  {
   "cell_type": "code",
   "execution_count": 10,
   "metadata": {
    "execution": {
     "iopub.execute_input": "2023-10-27T12:51:43.228454Z",
     "iopub.status.busy": "2023-10-27T12:51:43.227947Z",
     "iopub.status.idle": "2023-10-27T12:51:43.235352Z",
     "shell.execute_reply": "2023-10-27T12:51:43.234779Z"
    }
   },
   "outputs": [
    {
     "data": {
      "text/plain": [
       "array([1.24])"
      ]
     },
     "execution_count": 10,
     "metadata": {},
     "output_type": "execute_result"
    }
   ],
   "source": [
    "model.builder.nodes[0][0].beta"
   ]
  },
  {
   "cell_type": "code",
   "execution_count": 11,
   "metadata": {
    "execution": {
     "iopub.execute_input": "2023-10-27T12:51:43.238061Z",
     "iopub.status.busy": "2023-10-27T12:51:43.237829Z",
     "iopub.status.idle": "2023-10-27T12:51:43.556937Z",
     "shell.execute_reply": "2023-10-27T12:51:43.556233Z"
    }
   },
   "outputs": [
    {
     "name": "stderr",
     "output_type": "stream",
     "text": [
      "/home/runner/work/temperer/temperer/temperer/postprocessing.py:196: RuntimeWarning: invalid value encountered in divide\n",
      "  v=-1*initial_poro/initial_decay*phi1\n"
     ]
    },
    {
     "data": {
      "image/png": "[encoded data removed]",
      "text/plain": [
       "<Figure size 640x480 with 1 Axes>"
      ]
     },
     "metadata": {},
     "output_type": "display_data"
    }
   ],
   "source": [
    "%matplotlib inline\n",
    "import matplotlib.pyplot as plt\n",
    "plt.plot(node.result.ages,[node.result.basement_heatflow(age)*1000 for age in node.result.ages])\n",
    "plt.gca().invert_xaxis()\n",
    "plt.xlabel(\"Time (Ma)\")\n",
    "plt.ylabel(\"Basement heat flow (mW/m2)\")\n",
    "plt.show()"
   ]
  },
  {
   "cell_type": "code",
   "execution_count": 12,
   "metadata": {
    "execution": {
     "iopub.execute_input": "2023-10-27T12:51:43.560101Z",
     "iopub.status.busy": "2023-10-27T12:51:43.559863Z",
     "iopub.status.idle": "2023-10-27T12:51:43.779085Z",
     "shell.execute_reply": "2023-10-27T12:51:43.778515Z"
    }
   },
   "outputs": [
    {
     "data": {
      "application/vnd.jupyter.widget-view+json": {
       "model_id": "a5292add748443d59c65e1f40f951301",
       "version_major": 2,
       "version_minor": 0
      },
      "text/plain": [
       "interactive(children=(IntSlider(value=0, description='age', max=160), Output()), _dom_classes=('widget-interac…"
      ]
     },
     "metadata": {},
     "output_type": "display_data"
    },
    {
     "data": {
      "text/plain": [
       "<function __main__.plot_cell_bound(age)>"
      ]
     },
     "execution_count": 12,
     "metadata": {},
     "output_type": "execute_result"
    }
   ],
   "source": [
    "import ipywidgets as widgets\n",
    "import matplotlib.pyplot as plt\n",
    "\n",
    "def plot_cell_bound(age):\n",
    "    t = node.result.temperature(age)\n",
    "    plt.plot(t[\"values\"],t[\"depth\"])\n",
    "    plt.gca().invert_yaxis()\n",
    "    plt.xlabel(\"Temperature (C)\")\n",
    "    plt.ylabel(\"Depth (m)\")\n",
    "    plt.ylim(top=0,bottom=node.result.temperature(age,-2)[\"depth\"][0]+1000)\n",
    "    plt.show()\n",
    "\n",
    "widgets.interact(plot_cell_bound, age = widgets.IntSlider(value=0,max=node.result.ages[-1],min=node.result.ages[0],step=1))"
   ]
  },
  {
   "cell_type": "code",
   "execution_count": 13,
   "metadata": {
    "execution": {
     "iopub.execute_input": "2023-10-27T12:51:43.783308Z",
     "iopub.status.busy": "2023-10-27T12:51:43.783090Z",
     "iopub.status.idle": "2023-10-27T12:51:44.901885Z",
     "shell.execute_reply": "2023-10-27T12:51:44.901223Z"
    }
   },
   "outputs": [
    {
     "data": {
      "image/png": "[encoded data removed]",
      "text/plain": [
       "<Figure size 640x480 with 1 Axes>"
      ]
     },
     "metadata": {},
     "output_type": "display_data"
    },
    {
     "data": {
      "application/vnd.jupyter.widget-view+json": {
       "model_id": "f41165afcb2c48ffa94da61564db113d",
       "version_major": 2,
       "version_minor": 0
      },
      "text/plain": [
       "interactive(children=(IntSlider(value=0, description='age', max=160), Output()), _dom_classes=('widget-interac…"
      ]
     },
     "metadata": {},
     "output_type": "display_data"
    },
    {
     "data": {
      "text/plain": [
       "<function __main__.plot_cell_properties(age)>"
      ]
     },
     "execution_count": 13,
     "metadata": {},
     "output_type": "execute_result"
    }
   ],
   "source": [
    "def plot_cell_properties(age):\n",
    "    t = node.result.effective_conductivity(age)\n",
    "    plt.plot(t[\"values\"],(t[\"depth\"][1:]+t[\"depth\"][:-1])/2)\n",
    "    plt.gca().invert_yaxis()\n",
    "    plt.xlabel(\"Conductivity\")\n",
    "    plt.ylabel(\"Depth (m)\")\n",
    "    plt.ylim(top=0,bottom=node.result.temperature(age,-1)[\"depth\"][0])\n",
    "    plt.show()\n",
    "\n",
    "widgets.interact(plot_cell_properties, age = widgets.IntSlider(value=0,max=node.result.ages[-1],min=node.result.ages[0],step=1))"
   ]
  },
  {
   "cell_type": "code",
   "execution_count": null,
   "metadata": {},
   "outputs": [],
   "source": []
  }
 ],
 "metadata": {
  "file_extension": ".py",
  "interpreter": {
   "hash": "949777d72b0d2535278d3dc13498b2535136f6dfe0678499012e853ee9abcab1"
  },
  "kernelspec": {
   "display_name": "Python 3 (ipykernel)",
   "language": "python",
   "name": "python3"
  },
  "language_info": {
   "codemirror_mode": {
    "name": "ipython",
    "version": 3
   },
   "file_extension": ".py",
   "mimetype": "text/x-python",
   "name": "python",
   "nbconvert_exporter": "python",
   "pygments_lexer": "ipython3",
   "version": "3.10.12"
  },
  "mimetype": "text/x-python",
  "name": "python",
  "npconvert_exporter": "python",
  "pygments_lexer": "ipython3",
  "version": 3,
  "widgets": {
   "application/vnd.jupyter.widget-state+json": {
    "state": {
     "2d03f3d14c0a482d81e203f87082127e": {
      "model_module": "@jupyter-widgets/controls",
      "model_module_version": "2.0.0",
      "model_name": "SliderStyleModel",
      "state": {
       "_model_module": "@jupyter-widgets/controls",
       "_model_module_version": "2.0.0",
       "_model_name": "SliderStyleModel",
       "_view_count": null,
       "_view_module": "@jupyter-widgets/base",
       "_view_module_version": "2.0.0",
       "_view_name": "StyleView",
       "description_width": "",
       "handle_color": null
      }
     },
     "370131ceed98480bba07f6c694c8b1ff": {
      "model_module": "@jupyter-widgets/output",
      "model_module_version": "1.0.0",
      "model_name": "OutputModel",
      "state": {
       "_dom_classes": [],
       "_model_module": "@jupyter-widgets/output",
       "_model_module_version": "1.0.0",
       "_model_name": "OutputModel",
       "_view_count": null,
       "_view_module": "@jupyter-widgets/output",
       "_view_module_version": "1.0.0",
       "_view_name": "OutputView",
       "layout": "IPY_MODEL_3d5aed6ac8834c4ab79bd4d60d05f9c4",
       "msg_id": "",
       "outputs": [
        {
         "data": {
          "image/png": "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",
          "text/plain": "<Figure size 640x480 with 1 Axes>"
         },
         "metadata": {},
         "output_type": "display_data"
        }
       ],
       "tabbable": null,
       "tooltip": null
      }
     },
     "3a081a2c9ee64a298a0a8e50515db148": {
      "model_module": "@jupyter-widgets/output",
      "model_module_version": "1.0.0",
      "model_name": "OutputModel",
      "state": {
       "_dom_classes": [],
       "_model_module": "@jupyter-widgets/output",
       "_model_module_version": "1.0.0",
       "_model_name": "OutputModel",
       "_view_count": null,
       "_view_module": "@jupyter-widgets/output",
       "_view_module_version": "1.0.0",
       "_view_name": "OutputView",
       "layout": "IPY_MODEL_bbe1312486554f7584f208e51018c08d",
       "msg_id": "",
       "outputs": [
        {
         "ename": "ValueError",
         "evalue": "x and y must have same first dimension, but have shapes (342,) and (341,)",
         "output_type": "error",
         "traceback": [
          "\u001b[0;31m---------------------------------------------------------------------------\u001b[0m",
          "\u001b[0;31mValueError\u001b[0m                                Traceback (most recent call last)",
          "File \u001b[0;32m~/.cache/pypoetry/virtualenvs/temperer-K5yEkmxA-py3.10/lib/python3.10/site-packages/ipywidgets/widgets/interaction.py:240\u001b[0m, in \u001b[0;36minteractive.update\u001b[0;34m(self, *args)\u001b[0m\n\u001b[1;32m    238\u001b[0m     value \u001b[38;5;241m=\u001b[39m widget\u001b[38;5;241m.\u001b[39mget_interact_value()\n\u001b[1;32m    239\u001b[0m     \u001b[38;5;28mself\u001b[39m\u001b[38;5;241m.\u001b[39mkwargs[widget\u001b[38;5;241m.\u001b[39m_kwarg] \u001b[38;5;241m=\u001b[39m value\n\u001b[0;32m--> 240\u001b[0m \u001b[38;5;28mself\u001b[39m\u001b[38;5;241m.\u001b[39mresult \u001b[38;5;241m=\u001b[39m \u001b[38;5;28;43mself\u001b[39;49m\u001b[38;5;241;43m.\u001b[39;49m\u001b[43mf\u001b[49m\u001b[43m(\u001b[49m\u001b[38;5;241;43m*\u001b[39;49m\u001b[38;5;241;43m*\u001b[39;49m\u001b[38;5;28;43mself\u001b[39;49m\u001b[38;5;241;43m.\u001b[39;49m\u001b[43mkwargs\u001b[49m\u001b[43m)\u001b[49m\n\u001b[1;32m    241\u001b[0m show_inline_matplotlib_plots()\n\u001b[1;32m    242\u001b[0m \u001b[38;5;28;01mif\u001b[39;00m \u001b[38;5;28mself\u001b[39m\u001b[38;5;241m.\u001b[39mauto_display \u001b[38;5;129;01mand\u001b[39;00m \u001b[38;5;28mself\u001b[39m\u001b[38;5;241m.\u001b[39mresult \u001b[38;5;129;01mis\u001b[39;00m \u001b[38;5;129;01mnot\u001b[39;00m \u001b[38;5;28;01mNone\u001b[39;00m:\n",
          "Cell \u001b[0;32mIn[13], line 3\u001b[0m, in \u001b[0;36mplot_cell_properties\u001b[0;34m(age)\u001b[0m\n\u001b[1;32m      1\u001b[0m \u001b[38;5;28;01mdef\u001b[39;00m \u001b[38;5;21mplot_cell_properties\u001b[39m(age):\n\u001b[1;32m      2\u001b[0m     t \u001b[38;5;241m=\u001b[39m node\u001b[38;5;241m.\u001b[39mresult\u001b[38;5;241m.\u001b[39meffective_conductivity(age)\n\u001b[0;32m----> 3\u001b[0m     \u001b[43mplt\u001b[49m\u001b[38;5;241;43m.\u001b[39;49m\u001b[43mplot\u001b[49m\u001b[43m(\u001b[49m\u001b[43mt\u001b[49m\u001b[43m[\u001b[49m\u001b[38;5;124;43m\"\u001b[39;49m\u001b[38;5;124;43mvalues\u001b[39;49m\u001b[38;5;124;43m\"\u001b[39;49m\u001b[43m]\u001b[49m\u001b[43m,\u001b[49m\u001b[43m(\u001b[49m\u001b[43mt\u001b[49m\u001b[43m[\u001b[49m\u001b[38;5;124;43m\"\u001b[39;49m\u001b[38;5;124;43mdepth\u001b[39;49m\u001b[38;5;124;43m\"\u001b[39;49m\u001b[43m]\u001b[49m\u001b[43m[\u001b[49m\u001b[38;5;241;43m1\u001b[39;49m\u001b[43m:\u001b[49m\u001b[43m]\u001b[49m\u001b[38;5;241;43m+\u001b[39;49m\u001b[43mt\u001b[49m\u001b[43m[\u001b[49m\u001b[38;5;124;43m\"\u001b[39;49m\u001b[38;5;124;43mdepth\u001b[39;49m\u001b[38;5;124;43m\"\u001b[39;49m\u001b[43m]\u001b[49m\u001b[43m[\u001b[49m\u001b[43m:\u001b[49m\u001b[38;5;241;43m-\u001b[39;49m\u001b[38;5;241;43m1\u001b[39;49m\u001b[43m]\u001b[49m\u001b[43m)\u001b[49m\u001b[38;5;241;43m/\u001b[39;49m\u001b[38;5;241;43m2\u001b[39;49m\u001b[43m)\u001b[49m\n\u001b[1;32m      4\u001b[0m     plt\u001b[38;5;241m.\u001b[39mgca()\u001b[38;5;241m.\u001b[39minvert_yaxis()\n\u001b[1;32m      5\u001b[0m     plt\u001b[38;5;241m.\u001b[39mxlabel(\u001b[38;5;124m\"\u001b[39m\u001b[38;5;124mConductivity\u001b[39m\u001b[38;5;124m\"\u001b[39m)\n",
          "File \u001b[0;32m~/.cache/pypoetry/virtualenvs/temperer-K5yEkmxA-py3.10/lib/python3.10/site-packages/matplotlib/pyplot.py:3578\u001b[0m, in \u001b[0;36mplot\u001b[0;34m(scalex, scaley, data, *args, **kwargs)\u001b[0m\n\u001b[1;32m   3570\u001b[0m \u001b[38;5;129m@_copy_docstring_and_deprecators\u001b[39m(Axes\u001b[38;5;241m.\u001b[39mplot)\n\u001b[1;32m   3571\u001b[0m \u001b[38;5;28;01mdef\u001b[39;00m \u001b[38;5;21mplot\u001b[39m(\n\u001b[1;32m   3572\u001b[0m     \u001b[38;5;241m*\u001b[39margs: \u001b[38;5;28mfloat\u001b[39m \u001b[38;5;241m|\u001b[39m ArrayLike \u001b[38;5;241m|\u001b[39m \u001b[38;5;28mstr\u001b[39m,\n\u001b[0;32m   (...)\u001b[0m\n\u001b[1;32m   3576\u001b[0m     \u001b[38;5;241m*\u001b[39m\u001b[38;5;241m*\u001b[39mkwargs,\n\u001b[1;32m   3577\u001b[0m ) \u001b[38;5;241m-\u001b[39m\u001b[38;5;241m>\u001b[39m \u001b[38;5;28mlist\u001b[39m[Line2D]:\n\u001b[0;32m-> 3578\u001b[0m     \u001b[38;5;28;01mreturn\u001b[39;00m \u001b[43mgca\u001b[49m\u001b[43m(\u001b[49m\u001b[43m)\u001b[49m\u001b[38;5;241;43m.\u001b[39;49m\u001b[43mplot\u001b[49m\u001b[43m(\u001b[49m\n\u001b[1;32m   3579\u001b[0m \u001b[43m        \u001b[49m\u001b[38;5;241;43m*\u001b[39;49m\u001b[43margs\u001b[49m\u001b[43m,\u001b[49m\n\u001b[1;32m   3580\u001b[0m \u001b[43m        \u001b[49m\u001b[43mscalex\u001b[49m\u001b[38;5;241;43m=\u001b[39;49m\u001b[43mscalex\u001b[49m\u001b[43m,\u001b[49m\n\u001b[1;32m   3581\u001b[0m \u001b[43m        \u001b[49m\u001b[43mscaley\u001b[49m\u001b[38;5;241;43m=\u001b[39;49m\u001b[43mscaley\u001b[49m\u001b[43m,\u001b[49m\n\u001b[1;32m   3582\u001b[0m \u001b[43m        \u001b[49m\u001b[38;5;241;43m*\u001b[39;49m\u001b[38;5;241;43m*\u001b[39;49m\u001b[43m(\u001b[49m\u001b[43m{\u001b[49m\u001b[38;5;124;43m\"\u001b[39;49m\u001b[38;5;124;43mdata\u001b[39;49m\u001b[38;5;124;43m\"\u001b[39;49m\u001b[43m:\u001b[49m\u001b[43m \u001b[49m\u001b[43mdata\u001b[49m\u001b[43m}\u001b[49m\u001b[43m \u001b[49m\u001b[38;5;28;43;01mif\u001b[39;49;00m\u001b[43m \u001b[49m\u001b[43mdata\u001b[49m\u001b[43m \u001b[49m\u001b[38;5;129;43;01mis\u001b[39;49;00m\u001b[43m \u001b[49m\u001b[38;5;129;43;01mnot\u001b[39;49;00m\u001b[43m \u001b[49m\u001b[38;5;28;43;01mNone\u001b[39;49;00m\u001b[43m \u001b[49m\u001b[38;5;28;43;01melse\u001b[39;49;00m\u001b[43m \u001b[49m\u001b[43m{\u001b[49m\u001b[43m}\u001b[49m\u001b[43m)\u001b[49m\u001b[43m,\u001b[49m\n\u001b[1;32m   3583\u001b[0m \u001b[43m        \u001b[49m\u001b[38;5;241;43m*\u001b[39;49m\u001b[38;5;241;43m*\u001b[39;49m\u001b[43mkwargs\u001b[49m\u001b[43m,\u001b[49m\n\u001b[1;32m   3584\u001b[0m \u001b[43m    \u001b[49m\u001b[43m)\u001b[49m\n",
          "File \u001b[0;32m~/.cache/pypoetry/virtualenvs/temperer-K5yEkmxA-py3.10/lib/python3.10/site-packages/matplotlib/axes/_axes.py:1721\u001b[0m, in \u001b[0;36mAxes.plot\u001b[0;34m(self, scalex, scaley, data, *args, **kwargs)\u001b[0m\n\u001b[1;32m   1478\u001b[0m \u001b[38;5;250m\u001b[39m\u001b[38;5;124;03m\"\"\"\u001b[39;00m\n\u001b[1;32m   1479\u001b[0m \u001b[38;5;124;03mPlot y versus x as lines and/or markers.\u001b[39;00m\n\u001b[1;32m   1480\u001b[0m \n\u001b[0;32m   (...)\u001b[0m\n\u001b[1;32m   1718\u001b[0m \u001b[38;5;124;03m(``'green'``) or hex strings (``'#008000'``).\u001b[39;00m\n\u001b[1;32m   1719\u001b[0m \u001b[38;5;124;03m\"\"\"\u001b[39;00m\n\u001b[1;32m   1720\u001b[0m kwargs \u001b[38;5;241m=\u001b[39m cbook\u001b[38;5;241m.\u001b[39mnormalize_kwargs(kwargs, mlines\u001b[38;5;241m.\u001b[39mLine2D)\n\u001b[0;32m-> 1721\u001b[0m lines \u001b[38;5;241m=\u001b[39m [\u001b[38;5;241m*\u001b[39m\u001b[38;5;28mself\u001b[39m\u001b[38;5;241m.\u001b[39m_get_lines(\u001b[38;5;28mself\u001b[39m, \u001b[38;5;241m*\u001b[39margs, data\u001b[38;5;241m=\u001b[39mdata, \u001b[38;5;241m*\u001b[39m\u001b[38;5;241m*\u001b[39mkwargs)]\n\u001b[1;32m   1722\u001b[0m \u001b[38;5;28;01mfor\u001b[39;00m line \u001b[38;5;129;01min\u001b[39;00m lines:\n\u001b[1;32m   1723\u001b[0m     \u001b[38;5;28mself\u001b[39m\u001b[38;5;241m.\u001b[39madd_line(line)\n",
          "File \u001b[0;32m~/.cache/pypoetry/virtualenvs/temperer-K5yEkmxA-py3.10/lib/python3.10/site-packages/matplotlib/axes/_base.py:303\u001b[0m, in \u001b[0;36m_process_plot_var_args.__call__\u001b[0;34m(self, axes, data, *args, **kwargs)\u001b[0m\n\u001b[1;32m    301\u001b[0m     this \u001b[38;5;241m+\u001b[39m\u001b[38;5;241m=\u001b[39m args[\u001b[38;5;241m0\u001b[39m],\n\u001b[1;32m    302\u001b[0m     args \u001b[38;5;241m=\u001b[39m args[\u001b[38;5;241m1\u001b[39m:]\n\u001b[0;32m--> 303\u001b[0m \u001b[38;5;28;01myield from\u001b[39;00m \u001b[38;5;28;43mself\u001b[39;49m\u001b[38;5;241;43m.\u001b[39;49m\u001b[43m_plot_args\u001b[49m\u001b[43m(\u001b[49m\n\u001b[1;32m    304\u001b[0m \u001b[43m    \u001b[49m\u001b[43maxes\u001b[49m\u001b[43m,\u001b[49m\u001b[43m \u001b[49m\u001b[43mthis\u001b[49m\u001b[43m,\u001b[49m\u001b[43m \u001b[49m\u001b[43mkwargs\u001b[49m\u001b[43m,\u001b[49m\u001b[43m \u001b[49m\u001b[43mambiguous_fmt_datakey\u001b[49m\u001b[38;5;241;43m=\u001b[39;49m\u001b[43mambiguous_fmt_datakey\u001b[49m\u001b[43m)\u001b[49m\n",
          "File \u001b[0;32m~/.cache/pypoetry/virtualenvs/temperer-K5yEkmxA-py3.10/lib/python3.10/site-packages/matplotlib/axes/_base.py:499\u001b[0m, in \u001b[0;36m_process_plot_var_args._plot_args\u001b[0;34m(self, axes, tup, kwargs, return_kwargs, ambiguous_fmt_datakey)\u001b[0m\n\u001b[1;32m    496\u001b[0m     axes\u001b[38;5;241m.\u001b[39myaxis\u001b[38;5;241m.\u001b[39mupdate_units(y)\n\u001b[1;32m    498\u001b[0m \u001b[38;5;28;01mif\u001b[39;00m x\u001b[38;5;241m.\u001b[39mshape[\u001b[38;5;241m0\u001b[39m] \u001b[38;5;241m!=\u001b[39m y\u001b[38;5;241m.\u001b[39mshape[\u001b[38;5;241m0\u001b[39m]:\n\u001b[0;32m--> 499\u001b[0m     \u001b[38;5;28;01mraise\u001b[39;00m \u001b[38;5;167;01mValueError\u001b[39;00m(\u001b[38;5;124mf\u001b[39m\u001b[38;5;124m\"\u001b[39m\u001b[38;5;124mx and y must have same first dimension, but \u001b[39m\u001b[38;5;124m\"\u001b[39m\n\u001b[1;32m    500\u001b[0m                      \u001b[38;5;124mf\u001b[39m\u001b[38;5;124m\"\u001b[39m\u001b[38;5;124mhave shapes \u001b[39m\u001b[38;5;132;01m{\u001b[39;00mx\u001b[38;5;241m.\u001b[39mshape\u001b[38;5;132;01m}\u001b[39;00m\u001b[38;5;124m and \u001b[39m\u001b[38;5;132;01m{\u001b[39;00my\u001b[38;5;241m.\u001b[39mshape\u001b[38;5;132;01m}\u001b[39;00m\u001b[38;5;124m\"\u001b[39m)\n\u001b[1;32m    501\u001b[0m \u001b[38;5;28;01mif\u001b[39;00m x\u001b[38;5;241m.\u001b[39mndim \u001b[38;5;241m>\u001b[39m \u001b[38;5;241m2\u001b[39m \u001b[38;5;129;01mor\u001b[39;00m y\u001b[38;5;241m.\u001b[39mndim \u001b[38;5;241m>\u001b[39m \u001b[38;5;241m2\u001b[39m:\n\u001b[1;32m    502\u001b[0m     \u001b[38;5;28;01mraise\u001b[39;00m \u001b[38;5;167;01mValueError\u001b[39;00m(\u001b[38;5;124mf\u001b[39m\u001b[38;5;124m\"\u001b[39m\u001b[38;5;124mx and y can be no greater than 2D, but have \u001b[39m\u001b[38;5;124m\"\u001b[39m\n\u001b[1;32m    503\u001b[0m                      \u001b[38;5;124mf\u001b[39m\u001b[38;5;124m\"\u001b[39m\u001b[38;5;124mshapes \u001b[39m\u001b[38;5;132;01m{\u001b[39;00mx\u001b[38;5;241m.\u001b[39mshape\u001b[38;5;132;01m}\u001b[39;00m\u001b[38;5;124m and \u001b[39m\u001b[38;5;132;01m{\u001b[39;00my\u001b[38;5;241m.\u001b[39mshape\u001b[38;5;132;01m}\u001b[39;00m\u001b[38;5;124m\"\u001b[39m)\n",
          "\u001b[0;31mValueError\u001b[0m: x and y must have same first dimension, but have shapes (342,) and (341,)"
         ]
        }
       ],
       "tabbable": null,
       "tooltip": null
      }
     },
     "3d5aed6ac8834c4ab79bd4d60d05f9c4": {
      "model_module": "@jupyter-widgets/base",
      "model_module_version": "2.0.0",
      "model_name": "LayoutModel",
      "state": {
       "_model_module": "@jupyter-widgets/base",
       "_model_module_version": "2.0.0",
       "_model_name": "LayoutModel",
       "_view_count": null,
       "_view_module": "@jupyter-widgets/base",
       "_view_module_version": "2.0.0",
       "_view_name": "LayoutView",
       "align_content": null,
       "align_items": null,
       "align_self": null,
       "border_bottom": null,
       "border_left": null,
       "border_right": null,
       "border_top": null,
       "bottom": null,
       "display": null,
       "flex": null,
       "flex_flow": null,
       "grid_area": null,
       "grid_auto_columns": null,
       "grid_auto_flow": null,
       "grid_auto_rows": null,
       "grid_column": null,
       "grid_gap": null,
       "grid_row": null,
       "grid_template_areas": null,
       "grid_template_columns": null,
       "grid_template_rows": null,
       "height": null,
       "justify_content": null,
       "justify_items": null,
       "left": null,
       "margin": null,
       "max_height": null,
       "max_width": null,
       "min_height": null,
       "min_width": null,
       "object_fit": null,
       "object_position": null,
       "order": null,
       "overflow": null,
       "padding": null,
       "right": null,
       "top": null,
       "visibility": null,
       "width": null
      }
     },
     "43b6147fccad435faa376f30b74536e5": {
      "model_module": "@jupyter-widgets/controls",
      "model_module_version": "2.0.0",
      "model_name": "SliderStyleModel",
      "state": {
       "_model_module": "@jupyter-widgets/controls",
       "_model_module_version": "2.0.0",
       "_model_name": "SliderStyleModel",
       "_view_count": null,
       "_view_module": "@jupyter-widgets/base",
       "_view_module_version": "2.0.0",
       "_view_name": "StyleView",
       "description_width": "",
       "handle_color": null
      }
     },
     "6d524648716a4b359846a96c60b81e63": {
      "model_module": "@jupyter-widgets/controls",
      "model_module_version": "2.0.0",
      "model_name": "IntSliderModel",
      "state": {
       "_dom_classes": [],
       "_model_module": "@jupyter-widgets/controls",
       "_model_module_version": "2.0.0",
       "_model_name": "IntSliderModel",
       "_view_count": null,
       "_view_module": "@jupyter-widgets/controls",
       "_view_module_version": "2.0.0",
       "_view_name": "IntSliderView",
       "behavior": "drag-tap",
       "continuous_update": true,
       "description": "age",
       "description_allow_html": false,
       "disabled": false,
       "layout": "IPY_MODEL_fb3e4a16dc9b4d4aad61cccdc2b4581e",
       "max": 160,
       "min": 0,
       "orientation": "horizontal",
       "readout": true,
       "readout_format": "d",
       "step": 1,
       "style": "IPY_MODEL_43b6147fccad435faa376f30b74536e5",
       "tabbable": null,
       "tooltip": null,
       "value": 0
      }
     },
     "73649ae6e5e14abcabfd545cb3914a32": {
      "model_module": "@jupyter-widgets/base",
      "model_module_version": "2.0.0",
      "model_name": "LayoutModel",
      "state": {
       "_model_module": "@jupyter-widgets/base",
       "_model_module_version": "2.0.0",
       "_model_name": "LayoutModel",
       "_view_count": null,
       "_view_module": "@jupyter-widgets/base",
       "_view_module_version": "2.0.0",
       "_view_name": "LayoutView",
       "align_content": null,
       "align_items": null,
       "align_self": null,
       "border_bottom": null,
       "border_left": null,
       "border_right": null,
       "border_top": null,
       "bottom": null,
       "display": null,
       "flex": null,
       "flex_flow": null,
       "grid_area": null,
       "grid_auto_columns": null,
       "grid_auto_flow": null,
       "grid_auto_rows": null,
       "grid_column": null,
       "grid_gap": null,
       "grid_row": null,
       "grid_template_areas": null,
       "grid_template_columns": null,
       "grid_template_rows": null,
       "height": null,
       "justify_content": null,
       "justify_items": null,
       "left": null,
       "margin": null,
       "max_height": null,
       "max_width": null,
       "min_height": null,
       "min_width": null,
       "object_fit": null,
       "object_position": null,
       "order": null,
       "overflow": null,
       "padding": null,
       "right": null,
       "top": null,
       "visibility": null,
       "width": null
      }
     },
     "a5292add748443d59c65e1f40f951301": {
      "model_module": "@jupyter-widgets/controls",
      "model_module_version": "2.0.0",
      "model_name": "VBoxModel",
      "state": {
       "_dom_classes": [
        "widget-interact"
       ],
       "_model_module": "@jupyter-widgets/controls",
       "_model_module_version": "2.0.0",
       "_model_name": "VBoxModel",
       "_view_count": null,
       "_view_module": "@jupyter-widgets/controls",
       "_view_module_version": "2.0.0",
       "_view_name": "VBoxView",
       "box_style": "",
       "children": [
        "IPY_MODEL_f6fedee2244948178302cd0aca6e2f63",
        "IPY_MODEL_370131ceed98480bba07f6c694c8b1ff"
       ],
       "layout": "IPY_MODEL_f171623f4f664f4fbb7ba0a65b05de66",
       "tabbable": null,
       "tooltip": null
      }
     },
     "b8b9515981444fe59104fd005264bb1e": {
      "model_module": "@jupyter-widgets/base",
      "model_module_version": "2.0.0",
      "model_name": "LayoutModel",
      "state": {
       "_model_module": "@jupyter-widgets/base",
       "_model_module_version": "2.0.0",
       "_model_name": "LayoutModel",
       "_view_count": null,
       "_view_module": "@jupyter-widgets/base",
       "_view_module_version": "2.0.0",
       "_view_name": "LayoutView",
       "align_content": null,
       "align_items": null,
       "align_self": null,
       "border_bottom": null,
       "border_left": null,
       "border_right": null,
       "border_top": null,
       "bottom": null,
       "display": null,
       "flex": null,
       "flex_flow": null,
       "grid_area": null,
       "grid_auto_columns": null,
       "grid_auto_flow": null,
       "grid_auto_rows": null,
       "grid_column": null,
       "grid_gap": null,
       "grid_row": null,
       "grid_template_areas": null,
       "grid_template_columns": null,
       "grid_template_rows": null,
       "height": null,
       "justify_content": null,
       "justify_items": null,
       "left": null,
       "margin": null,
       "max_height": null,
       "max_width": null,
       "min_height": null,
       "min_width": null,
       "object_fit": null,
       "object_position": null,
       "order": null,
       "overflow": null,
       "padding": null,
       "right": null,
       "top": null,
       "visibility": null,
       "width": null
      }
     },
     "bbe1312486554f7584f208e51018c08d": {
      "model_module": "@jupyter-widgets/base",
      "model_module_version": "2.0.0",
      "model_name": "LayoutModel",
      "state": {
       "_model_module": "@jupyter-widgets/base",
       "_model_module_version": "2.0.0",
       "_model_name": "LayoutModel",
       "_view_count": null,
       "_view_module": "@jupyter-widgets/base",
       "_view_module_version": "2.0.0",
       "_view_name": "LayoutView",
       "align_content": null,
       "align_items": null,
       "align_self": null,
       "border_bottom": null,
       "border_left": null,
       "border_right": null,
       "border_top": null,
       "bottom": null,
       "display": null,
       "flex": null,
       "flex_flow": null,
       "grid_area": null,
       "grid_auto_columns": null,
       "grid_auto_flow": null,
       "grid_auto_rows": null,
       "grid_column": null,
       "grid_gap": null,
       "grid_row": null,
       "grid_template_areas": null,
       "grid_template_columns": null,
       "grid_template_rows": null,
       "height": null,
       "justify_content": null,
       "justify_items": null,
       "left": null,
       "margin": null,
       "max_height": null,
       "max_width": null,
       "min_height": null,
       "min_width": null,
       "object_fit": null,
       "object_position": null,
       "order": null,
       "overflow": null,
       "padding": null,
       "right": null,
       "top": null,
       "visibility": null,
       "width": null
      }
     },
     "f171623f4f664f4fbb7ba0a65b05de66": {
      "model_module": "@jupyter-widgets/base",
      "model_module_version": "2.0.0",
      "model_name": "LayoutModel",
      "state": {
       "_model_module": "@jupyter-widgets/base",
       "_model_module_version": "2.0.0",
       "_model_name": "LayoutModel",
       "_view_count": null,
       "_view_module": "@jupyter-widgets/base",
       "_view_module_version": "2.0.0",
       "_view_name": "LayoutView",
       "align_content": null,
       "align_items": null,
       "align_self": null,
       "border_bottom": null,
       "border_left": null,
       "border_right": null,
       "border_top": null,
       "bottom": null,
       "display": null,
       "flex": null,
       "flex_flow": null,
       "grid_area": null,
       "grid_auto_columns": null,
       "grid_auto_flow": null,
       "grid_auto_rows": null,
       "grid_column": null,
       "grid_gap": null,
       "grid_row": null,
       "grid_template_areas": null,
       "grid_template_columns": null,
       "grid_template_rows": null,
       "height": null,
       "justify_content": null,
       "justify_items": null,
       "left": null,
       "margin": null,
       "max_height": null,
       "max_width": null,
       "min_height": null,
       "min_width": null,
       "object_fit": null,
       "object_position": null,
       "order": null,
       "overflow": null,
       "padding": null,
       "right": null,
       "top": null,
       "visibility": null,
       "width": null
      }
     },
     "f41165afcb2c48ffa94da61564db113d": {
      "model_module": "@jupyter-widgets/controls",
      "model_module_version": "2.0.0",
      "model_name": "VBoxModel",
      "state": {
       "_dom_classes": [
        "widget-interact"
       ],
       "_model_module": "@jupyter-widgets/controls",
       "_model_module_version": "2.0.0",
       "_model_name": "VBoxModel",
       "_view_count": null,
       "_view_module": "@jupyter-widgets/controls",
       "_view_module_version": "2.0.0",
       "_view_name": "VBoxView",
       "box_style": "",
       "children": [
        "IPY_MODEL_6d524648716a4b359846a96c60b81e63",
        "IPY_MODEL_3a081a2c9ee64a298a0a8e50515db148"
       ],
       "layout": "IPY_MODEL_b8b9515981444fe59104fd005264bb1e",
       "tabbable": null,
       "tooltip": null
      }
     },
     "f6fedee2244948178302cd0aca6e2f63": {
      "model_module": "@jupyter-widgets/controls",
      "model_module_version": "2.0.0",
      "model_name": "IntSliderModel",
      "state": {
       "_dom_classes": [],
       "_model_module": "@jupyter-widgets/controls",
       "_model_module_version": "2.0.0",
       "_model_name": "IntSliderModel",
       "_view_count": null,
       "_view_module": "@jupyter-widgets/controls",
       "_view_module_version": "2.0.0",
       "_view_name": "IntSliderView",
       "behavior": "drag-tap",
       "continuous_update": true,
       "description": "age",
       "description_allow_html": false,
       "disabled": false,
       "layout": "IPY_MODEL_73649ae6e5e14abcabfd545cb3914a32",
       "max": 160,
       "min": 0,
       "orientation": "horizontal",
       "readout": true,
       "readout_format": "d",
       "step": 1,
       "style": "IPY_MODEL_2d03f3d14c0a482d81e203f87082127e",
       "tabbable": null,
       "tooltip": null,
       "value": 0
      }
     },
     "fb3e4a16dc9b4d4aad61cccdc2b4581e": {
      "model_module": "@jupyter-widgets/base",
      "model_module_version": "2.0.0",
      "model_name": "LayoutModel",
      "state": {
       "_model_module": "@jupyter-widgets/base",
       "_model_module_version": "2.0.0",
       "_model_name": "LayoutModel",
       "_view_count": null,
       "_view_module": "@jupyter-widgets/base",
       "_view_module_version": "2.0.0",
       "_view_name": "LayoutView",
       "align_content": null,
       "align_items": null,
       "align_self": null,
       "border_bottom": null,
       "border_left": null,
       "border_right": null,
       "border_top": null,
       "bottom": null,
       "display": null,
       "flex": null,
       "flex_flow": null,
       "grid_area": null,
       "grid_auto_columns": null,
       "grid_auto_flow": null,
       "grid_auto_rows": null,
       "grid_column": null,
       "grid_gap": null,
       "grid_row": null,
       "grid_template_areas": null,
       "grid_template_columns": null,
       "grid_template_rows": null,
       "height": null,
       "justify_content": null,
       "justify_items": null,
       "left": null,
       "margin": null,
       "max_height": null,
       "max_width": null,
       "min_height": null,
       "min_width": null,
       "object_fit": null,
       "object_position": null,
       "order": null,
       "overflow": null,
       "padding": null,
       "right": null,
       "top": null,
       "visibility": null,
       "width": null
      }
     }
    },
    "version_major": 2,
    "version_minor": 0
   }
  }
 },
 "nbformat": 4,
 "nbformat_minor": 4
}
