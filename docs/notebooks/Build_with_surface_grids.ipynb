{
 "cells": [
  {
   "cell_type": "markdown",
   "metadata": {},
   "source": [
    "# Build multi-1D models with maps"
   ]
  },
  {
   "cell_type": "code",
   "execution_count": null,
   "metadata": {
    "scrolled": true
   },
   "outputs": [],
   "source": [
    "import os\n",
    "import multiprocessing\n",
    "from pathlib import Path\n",
    "import sys\n",
    "\n",
    "sys.path.append(\"../\")\n",
    "import numpy as np\n",
    "import temperer"
   ]
  },
  {
   "cell_type": "code",
   "execution_count": null,
   "metadata": {
    "scrolled": true
   },
   "outputs": [],
   "source": [
    "n_cpu = multiprocessing.cpu_count()\n",
    "print(\"Available CPUs\",n_cpu)"
   ]
  },
  {
   "cell_type": "code",
   "execution_count": null,
   "metadata": {},
   "outputs": [],
   "source": [
    "os.getcwd()"
   ]
  },
  {
   "cell_type": "code",
   "execution_count": null,
   "metadata": {},
   "outputs": [],
   "source": [
    "maps_dir = Path(\"../data/mapA\")"
   ]
  },
  {
   "cell_type": "markdown",
   "metadata": {},
   "source": [
    "Instantiate a model"
   ]
  },
  {
   "cell_type": "code",
   "execution_count": null,
   "metadata": {},
   "outputs": [],
   "source": [
    "model = temperer.Model()"
   ]
  },
  {
   "cell_type": "code",
   "execution_count": null,
   "metadata": {},
   "outputs": [],
   "source": [
    "inputs = model.builder.input_horizons_template"
   ]
  },
  {
   "cell_type": "code",
   "execution_count": null,
   "metadata": {},
   "outputs": [],
   "source": [
    "#Add surface grids to the table. You can use other method as well\n",
    "inputs.loc[0]=[0,\"0.gri\",None,\"Onlap\"]\n",
    "inputs.loc[1]=[66,\"66.gri\",None,\"Onlap\"]\n",
    "inputs.loc[2]=[100,\"100.gri\",None,\"Onlap\"]\n",
    "inputs.loc[3]=[163,\"163.gri\",None,\"Erosive\"]\n",
    "inputs.loc[4]=[168,\"168.gri\",None,\"Erosive\"]\n",
    "inputs.loc[5]=[170,\"170.gri\",None,\"Onlap\"]\n",
    "inputs.loc[6]=[182,\"182.gri\",None,\"Erosive\"]\n",
    "model.builder.input_horizons=inputs\n",
    "inputs"
   ]
  },
  {
   "cell_type": "markdown",
   "metadata": {},
   "source": [
    "Make a grid of locations or specify X, Y extraction"
   ]
  },
  {
   "cell_type": "code",
   "execution_count": null,
   "metadata": {},
   "outputs": [],
   "source": [
    "inc = 2000\n",
    "model.builder.define_geometry(maps_dir/\"0.gri\",xinc=inc,yinc=inc,fformat=\"irap_binary\")"
   ]
  },
  {
   "cell_type": "code",
   "execution_count": null,
   "metadata": {},
   "outputs": [],
   "source": [
    "%%time\n",
    "model.builder.extract_nodes(4,maps_dir)"
   ]
  },
  {
   "cell_type": "code",
   "execution_count": null,
   "metadata": {},
   "outputs": [],
   "source": [
    "model.parameters.time_start"
   ]
  },
  {
   "cell_type": "code",
   "execution_count": null,
   "metadata": {},
   "outputs": [],
   "source": [
    "from temperer.data import haq87\n",
    "model.builder.set_eustatic_sea_level(haq87)"
   ]
  },
  {
   "cell_type": "code",
   "execution_count": null,
   "metadata": {},
   "outputs": [],
   "source": [
    "for i in model.builder.iter_node():\n",
    "    i.rift=[[182,175]]\n"
   ]
  },
  {
   "cell_type": "markdown",
   "metadata": {},
   "source": [
    "Create an input data table for horizon and age extraction"
   ]
  },
  {
   "cell_type": "code",
   "execution_count": null,
   "metadata": {},
   "outputs": [],
   "source": [
    "# simulate every 10 nodes\n",
    "for index in model.builder.grid.indexing_arr:\n",
    "    if (index[0] % 10 > 0):\n",
    "        pass\n",
    "    else:\n",
    "        if isinstance(model.builder.nodes[index[0]][index[1]],bool) is False:\n",
    "            model.builder.nodes[index[0]][index[1]] = False\n",
    "    if (index[1] % 10 > 0):\n",
    "        pass\n",
    "    else:\n",
    "        if isinstance(model.builder.nodes[index[0]][index[1]],bool) is False:\n",
    "            model.builder.nodes[index[0]][index[1]] = False\n"
   ]
  },
  {
   "cell_type": "code",
   "execution_count": null,
   "metadata": {},
   "outputs": [],
   "source": [
    "indexer_full_sim = [i.indexer for i in model.builder.iter_node() if i._full_simulation is True]"
   ]
  },
  {
   "cell_type": "code",
   "execution_count": null,
   "metadata": {},
   "outputs": [],
   "source": [
    "model.builder.nodes[1][1]"
   ]
  },
  {
   "cell_type": "code",
   "execution_count": null,
   "metadata": {},
   "outputs": [],
   "source": [
    "%%time\n",
    "model.simulator.run(save=False,purge=True)"
   ]
  },
  {
   "cell_type": "code",
   "execution_count": null,
   "metadata": {},
   "outputs": [],
   "source": [
    "model.builder.nodes[0][1]"
   ]
  },
  {
   "cell_type": "code",
   "execution_count": null,
   "metadata": {},
   "outputs": [],
   "source": [
    "for i in model.builder.iter_node():\n",
    "    if i is not False:\n",
    "        print(i.result.heatflow(0))"
   ]
  },
  {
   "cell_type": "code",
   "execution_count": null,
   "metadata": {},
   "outputs": [],
   "source": []
  }
 ],
 "metadata": {
  "file_extension": ".py",
  "kernelspec": {
   "display_name": "Python 3",
   "language": "python",
   "name": "python3"
  },
  "language_info": {
   "codemirror_mode": {
    "name": "ipython",
    "version": 3
   },
   "file_extension": ".py",
   "mimetype": "text/x-python",
   "name": "python",
   "nbconvert_exporter": "python",
   "pygments_lexer": "ipython3",
   "version": "3.11.6"
  },
  "mimetype": "text/x-python",
  "name": "python",
  "npconvert_exporter": "python",
  "pygments_lexer": "ipython3",
  "version": 3
 },
 "nbformat": 4,
 "nbformat_minor": 2
}
